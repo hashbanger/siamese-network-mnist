{
 "cells": [
  {
   "cell_type": "markdown",
   "source": "Importing the libraries",
   "metadata": {
    "tags": [],
    "cell_id": "00000-6a4745cb-a33c-4b8d-8371-320149164403",
    "deepnote_cell_type": "markdown"
   }
  },
  {
   "cell_type": "code",
   "metadata": {
    "tags": [],
    "cell_id": "00000-1e0c29cb-319e-48de-b93f-450b5d059ae3",
    "deepnote_to_be_reexecuted": false,
    "source_hash": "c0a2ccf7",
    "execution_start": 1628484439866,
    "execution_millis": 22,
    "deepnote_cell_type": "code"
   },
   "source": "# !pip install tensorflow==2.3.0\n# !pip install keras==2.4.3\n# !pip install pydot\nimport os\nimport random\nimport itertools\nimport numpy as np\nimport pandas as pd\nimport tensorflow as tf\nimport matplotlib.pyplot as plt\nfrom tensorflow.keras import Input, Model\nfrom tensorflow.keras.layers import Dense, Conv2D, Flatten, MaxPooling2D\nfrom tensorflow.keras.metrics import binary_accuracy\nfrom tensorflow.keras import metrics",
   "execution_count": 50,
   "outputs": []
  },
  {
   "cell_type": "markdown",
   "source": "Loading the MNIST Dataset",
   "metadata": {
    "tags": [],
    "cell_id": "00002-bc3c85a2-2dda-41cc-a808-7e5f3ec242e4",
    "deepnote_cell_type": "markdown"
   },
   "outputs": [],
   "execution_count": null
  },
  {
   "cell_type": "code",
   "metadata": {
    "tags": [],
    "cell_id": "00001-8d75faba-f614-4cb3-ab22-3807e0ffbd91",
    "deepnote_to_be_reexecuted": false,
    "source_hash": "aaee380d",
    "execution_start": 1628484235107,
    "execution_millis": 522,
    "deepnote_cell_type": "code"
   },
   "source": "(x_train, y_train), (x_test, y_test) = tf.keras.datasets.mnist.load_data()\n\n# Rescale the images from [0,255] to the [0.0,1.0] range.\nx_train, x_test = x_train[..., np.newaxis]/255.0, x_test[..., np.newaxis]/255.0\n\nprint(\"Number of original training examples:\", len(x_train))\nprint(\"Number of original test examples:\", len(x_test))",
   "execution_count": 17,
   "outputs": [
    {
     "name": "stdout",
     "text": "Number of original training examples: 60000\nNumber of original test examples: 10000\n",
     "output_type": "stream"
    }
   ]
  },
  {
   "cell_type": "code",
   "metadata": {
    "tags": [],
    "cell_id": "00002-33c41fed-6c41-494f-baa6-735ff4009490",
    "deepnote_to_be_reexecuted": false,
    "source_hash": "b7c58e2e",
    "execution_start": 1628487117127,
    "execution_millis": 0,
    "deepnote_cell_type": "code"
   },
   "source": "# For vanilla CNN training, converting the labels to one hot encoded\n# y_train_cat = tf.keras.utils.to_categorical(y_train)\n# y_test_cat = tf.keras.utils.to_categorical(y_test)",
   "execution_count": 166,
   "outputs": []
  },
  {
   "cell_type": "code",
   "metadata": {
    "tags": [],
    "cell_id": "00003-92f83483-eae1-4a68-bc9a-dcf9a15ffa82",
    "deepnote_to_be_reexecuted": false,
    "source_hash": "10286f3a",
    "execution_start": 1628487127934,
    "execution_millis": 2,
    "deepnote_cell_type": "code"
   },
   "source": "# a vanilla CNN for MNIST\n\n# inputs = Input(shape=(28,28,1))\n# x = Conv2D(3, (2, 2), activation=\"relu\")(inputs)\n# # x = Conv2D(10, 3, activation = 'relu')(x)\n# x = Flatten()(x)\n# x = Dense(4, activation= 'relu')(x)\n# outputs = Dense(10, activation= 'softmax')(x)\n# model = Model(inputs=inputs, outputs=outputs)\n# model.summary()\n# model.compile(loss = tf.keras.losses.categorical_crossentropy,\n#                 optimizer = tf.keras.optimizers.Adam(),\n#                 metrics = ['accuracy'])\n# model.fit(x_train, y_train_cat, epochs = 4)",
   "execution_count": 167,
   "outputs": []
  },
  {
   "cell_type": "markdown",
   "source": "Creating the Distance Layer for the Model",
   "metadata": {
    "tags": [],
    "cell_id": "00006-cb7c609c-57a0-48b4-9708-db0ec0d9e436",
    "deepnote_cell_type": "markdown"
   },
   "outputs": [],
   "execution_count": null
  },
  {
   "cell_type": "code",
   "source": "class DistanceLayer(tf.keras.layers.Layer):\n    \"\"\"\n    This layer is responsible for computing the distance between the anchor\n    embedding and the positive embedding, and the anchor embedding and the\n    negative embedding.\n    \"\"\"\n\n    def __init__(self, **kwargs):\n        super().__init__(**kwargs)\n\n    def call(self, anchor, positive, negative):\n        ap_distance = tf.reduce_sum(tf.square(anchor - positive), -1)\n        an_distance = tf.reduce_sum(tf.square(anchor - negative), -1)\n        return (ap_distance, an_distance)",
   "metadata": {
    "tags": [],
    "cell_id": "00006-d22c9822-8e63-44fd-ad8c-dbb5b6b3ddaa",
    "deepnote_to_be_reexecuted": false,
    "source_hash": "8dc88ff1",
    "execution_start": 1628487175357,
    "execution_millis": 0,
    "deepnote_cell_type": "code"
   },
   "outputs": [],
   "execution_count": 168
  },
  {
   "cell_type": "markdown",
   "source": "Defining the embedding model architecture",
   "metadata": {
    "tags": [],
    "cell_id": "00008-22413e5f-50c3-49ee-a0c0-acd99880c86d",
    "deepnote_cell_type": "markdown"
   },
   "outputs": [],
   "execution_count": null
  },
  {
   "cell_type": "code",
   "source": "def create_siamese_twin():\n    \"\"\"\n    creates and returns an embedding model to be used in the siamese architecture\n    \"\"\"\n    # Define the tensors for the two input images\n    input_twin = Input(IMAGE_SHAPE)\n    #x = brand_model(input_twin)\n    x = Conv2D(3, (2, 2), activation=\"relu\")(input_twin)\n    x = MaxPooling2D()(x)\n    # x = Conv2D(512, (2, 2), activation=\"relu\")(x)\n    # x = MaxPooling2D()(x)\n    # x = Conv2D(256, (1, 1), activation=\"relu\")(x)\n    x = Flatten()(x)\n    outputs = Dense(128, name=\"final_dense\", activation=None)(x)\n    return Model(input_twin, outputs)",
   "metadata": {
    "tags": [],
    "cell_id": "00008-f8fc3c5a-5ac0-491c-b52f-c082d1287e20",
    "deepnote_to_be_reexecuted": false,
    "source_hash": "4ce0cf2e",
    "execution_start": 1628487207087,
    "execution_millis": 0,
    "deepnote_cell_type": "code"
   },
   "outputs": [],
   "execution_count": 169
  },
  {
   "cell_type": "markdown",
   "source": "Putting the whole network together",
   "metadata": {
    "tags": [],
    "cell_id": "00010-f3888de8-f320-4b8e-826b-192ebc0a84c3",
    "deepnote_cell_type": "markdown"
   },
   "outputs": [],
   "execution_count": null
  },
  {
   "cell_type": "code",
   "metadata": {
    "tags": [],
    "cell_id": "00006-750b75e4-7302-4cbe-a6c7-0836d0f567cd",
    "deepnote_to_be_reexecuted": false,
    "source_hash": "a0450521",
    "execution_start": 1628484237302,
    "execution_millis": 8,
    "deepnote_cell_type": "code"
   },
   "source": "def create_siamese_network():\n    \"\"\"\n    creates and returns the final siamese architecture with the embedded model\n    \"\"\"\n    middle_input = Input(IMAGE_SHAPE)\n    left_input = Input(IMAGE_SHAPE)\n    right_input = Input(IMAGE_SHAPE)\n    twin = create_siamese_twin()\n    \n    distances = DistanceLayer()(twin(middle_input), twin(left_input), twin(right_input))\n    \n    model = Model(inputs=[middle_input, left_input, right_input], outputs=distances)\n    return model",
   "execution_count": 20,
   "outputs": []
  },
  {
   "cell_type": "markdown",
   "source": "Defining the custom training loops",
   "metadata": {
    "tags": [],
    "cell_id": "00012-10173a29-1610-4bdf-97bc-24cc0cb55fa1",
    "deepnote_cell_type": "markdown"
   },
   "outputs": [],
   "execution_count": null
  },
  {
   "cell_type": "code",
   "metadata": {
    "tags": [],
    "cell_id": "00007-f7974923-8c10-406f-bd73-b06939f41c87",
    "deepnote_to_be_reexecuted": false,
    "source_hash": "d5d9b518",
    "execution_start": 1628487263848,
    "execution_millis": 9,
    "deepnote_cell_type": "code"
   },
   "source": "class SiameseModel(Model):\n    \"\"\"The Siamese Network model with a custom training and testing loops.\n\n    Computes the triplet loss using the three embeddings produced by the\n    Siamese Network.\n\n    The triplet loss is defined as:\n       L(A, P, N) = max(‖f(A) - f(P)‖² - ‖f(A) - f(N)‖² + margin, 0)\n    \"\"\"\n\n    def __init__(self, siamese_network, margin=0.5):\n        super(SiameseModel, self).__init__()\n        self.siamese_network = siamese_network\n        self.margin = margin\n        self.loss_tracker = metrics.Mean(name=\"loss\")\n        # self.accuracy = SiameseNetworkAccuracy\n\n    def call(self, inputs):\n        return self.siamese_network(inputs)\n\n    def train_step(self, data):\n        # GradientTape is a context manager that records every operation that\n        # you do inside. We are using it here to compute the loss so we can get\n        # the gradients and apply them using the optimizer specified in\n        # `compile()`.\n        with tf.GradientTape() as tape:\n            loss = self._compute_loss(data)\n\n        # Storing the gradients of the loss function with respect to the\n        # weights/parameters.\n        gradients = tape.gradient(loss, self.siamese_network.trainable_weights)\n\n        # Applying the gradients on the model using the specified optimizer\n        self.optimizer.apply_gradients(\n            zip(gradients, self.siamese_network.trainable_weights)\n        )\n\n        # Let's update and return the training loss metric.\n        self.loss_tracker.update_state(loss)\n        # self.loss_tracker.update_state(loss)\n\n        return {\"loss\": self.loss_tracker.result()}  # add accuracy\n\n    def test_step(self, data):\n        loss = self._compute_loss(data)\n\n        # Let's update and return the loss metric.\n        self.loss_tracker.update_state(loss)\n        return {\"loss\": self.loss_tracker.result()}\n\n    def _compute_loss(self, data):\n        # The output of the network is a tuple containing the distances\n        # between the anchor and the positive example, and the anchor and\n        # the negative example.\n        ap_distance, an_distance = self.siamese_network(data)\n\n        # Computing the Triplet Loss by subtracting both distances and\n        # making sure we don't get a negative value.\n        loss = ap_distance - an_distance\n        loss = tf.maximum(loss + self.margin, 0.0)\n        return loss\n\n    @property\n    def metrics(self):\n        # We need to list our metrics here so the `reset_states()` can be\n        # called automatically.\n        return [self.loss_tracker]\n\ndef accuracy(y_true, y_pred):\n    \"\"\"\n    returns the keras binary accuracy\n    \"\"\"\n    return binary_accuracy(y_true, 1 - y_pred)",
   "execution_count": 170,
   "outputs": []
  },
  {
   "cell_type": "code",
   "metadata": {
    "tags": [],
    "cell_id": "00009-4898a4dc-bbec-44d5-a180-7cf22ef3ebf4",
    "deepnote_to_be_reexecuted": false,
    "source_hash": "e1d0b81c",
    "execution_start": 1628487275658,
    "execution_millis": 10,
    "deepnote_cell_type": "code"
   },
   "source": "# The image shape to be fed in the model\nIMAGE_SHAPE = x_train.shape[1:]\nprint('IMAGE_SHAPE', IMAGE_SHAPE)",
   "execution_count": 171,
   "outputs": [
    {
     "name": "stdout",
     "text": "IMAGE_SHAPE (28, 28, 1)\n",
     "output_type": "stream"
    }
   ]
  },
  {
   "cell_type": "code",
   "metadata": {
    "tags": [],
    "cell_id": "00014-e920126e-6222-43c1-83ed-0cdce15166e5",
    "deepnote_to_be_reexecuted": false,
    "source_hash": "e5d026e5",
    "execution_start": 1628487305887,
    "execution_millis": 4,
    "deepnote_cell_type": "code"
   },
   "source": "NUM_POS = 4 # Number of positive examples to consider per class\nNUM_NEG = 9 # Number of negative examples to consider per class",
   "execution_count": 172,
   "outputs": []
  },
  {
   "cell_type": "markdown",
   "source": "Triplet Generation",
   "metadata": {
    "tags": [],
    "cell_id": "00016-5057ff90-ff32-4abc-9e21-fa9a185249c6",
    "deepnote_cell_type": "markdown"
   },
   "outputs": [],
   "execution_count": null
  },
  {
   "cell_type": "code",
   "metadata": {
    "tags": [],
    "cell_id": "00014-b07f5dee-408b-4723-a796-6b2986e38dd1",
    "deepnote_to_be_reexecuted": false,
    "source_hash": "90588586",
    "execution_start": 1628486903861,
    "execution_millis": 12,
    "deepnote_cell_type": "code"
   },
   "source": "def shuffle_triplets(triplets):\n    \"\"\"\n    returns the shuffled array of the triplets\n    \"\"\"\n    triplets_len = list(range(len(triplets[0])))\n    random.shuffle(triplets_len)\n    triplets_shuffles = [triplets[0][triplets_len], triplets[1][triplets_len], triplets[2][triplets_len]]\n    return triplets_shuffles\n\ndef create_triplets(label_set, validation_split = 0.7):\n    \"\"\"\n    creates and splits all possible triplets for training and validation\n    \"\"\"\n    triplet_images = []\n    triplets_set = []\n    left_images = []\n    middle_images = []\n    right_images = []\n    set_labels = []\n\n    for label in set(label_set):\n        label_pos_ids = np.where(label_set == label)[0]\n        label_neg_ids = np.where(label_set != label)[0]\n        np.random.shuffle(label_pos_ids)\n        np.random.shuffle(label_neg_ids)\n        \n        positive_examples = label_pos_ids[:NUM_POS]\n        negative_examples = label_neg_ids[:NUM_NEG]\n        triplet_labels = list(itertools.product(positive_examples, positive_examples, negative_examples))\n\n        for trp in triplet_labels:\n            left_images.append(x_train[trp[0]])\n            middle_images.append(x_train[trp[1]])\n            right_images.append(x_train[trp[2]])\n            set_labels.append(1.0)\n    \n    triplets, labels = [np.array(left_images), np.array(middle_images), np.array(right_images)], np.array(set_labels)\n\n    triplets = shuffle_triplets(triplets)\n    \n    split_point = int(NUM_POS * NUM_POS * NUM_NEG * len(set(label_set)) * 0.7)\n    train_triplets, train_labels = [triplets[0][:split_point], triplets[1][:split_point], triplets[2][:split_point]], labels[:split_point]\n    val_triplets, val_labels = [triplets[0][split_point:], triplets[1][split_point:], triplets[2][split_point:]], labels[split_point:]\n    \n    return (train_triplets, train_labels), (val_triplets, val_labels)  ",
   "execution_count": 142,
   "outputs": []
  },
  {
   "cell_type": "code",
   "metadata": {
    "tags": [],
    "cell_id": "00014-58fac179-5f5e-4dab-87a0-3fc083dd9abf",
    "deepnote_to_be_reexecuted": false,
    "source_hash": "b278eaef",
    "execution_start": 1628487397356,
    "execution_millis": 10,
    "deepnote_cell_type": "code"
   },
   "source": "# Storing the triplets\n(train_triplets, train_labels), (val_triplets, val_labels)  = create_triplets(y_train)",
   "execution_count": 173,
   "outputs": []
  },
  {
   "cell_type": "code",
   "metadata": {
    "tags": [],
    "cell_id": "00017-abafa1c6-41f3-460f-bcf0-0bb04d064e24",
    "deepnote_to_be_reexecuted": false,
    "source_hash": "87963f94",
    "execution_start": 1628487502070,
    "execution_millis": 16,
    "deepnote_cell_type": "code"
   },
   "source": "# Checking the shapes for the triplets\nprint(\"Train Triplets Shape: {}, Train Labels Shape: {}\".format(np.array(train_triplets).shape, train_labels.shape))\nprint(\"Val Triplets Shape: {}, Val Labels Shape: {}\".format(np.array(val_triplets).shape, val_labels.shape))",
   "execution_count": 175,
   "outputs": [
    {
     "name": "stdout",
     "text": "Train Triplets Shape: (3, 1007, 28, 28, 1), Train Labels Shape: (1007,)\nVal Triplets Shape: (3, 433, 28, 28, 1), Val Labels Shape: (433,)\n",
     "output_type": "stream"
    }
   ]
  },
  {
   "cell_type": "code",
   "source": "# plotting some triplets \nnum = np.random.randint(0, len(train_labels))\nplt.figure(figsize= (16,15))\nplt.subplot(i+1,3,1)\nplt.imshow(train_triplets[0][num])\nplt.subplot(i+1,3,2)\nplt.imshow(train_triplets[1][num])\nplt.subplot(i+1,3,3)\nplt.imshow(train_triplets[2][num])",
   "metadata": {
    "tags": [],
    "cell_id": "00016-e5dfd320-045c-4798-b8a8-38b1f7ffab05",
    "deepnote_to_be_reexecuted": false,
    "source_hash": "9044b11f",
    "execution_start": 1628487893676,
    "execution_millis": 337,
    "deepnote_cell_type": "code"
   },
   "outputs": [
    {
     "output_type": "execute_result",
     "execution_count": 187,
     "data": {
      "text/plain": "<matplotlib.image.AxesImage at 0x7faea89d1110>"
     },
     "metadata": {}
    },
    {
     "data": {
      "text/plain": "<Figure size 1152x1080 with 3 Axes>",
      "image/png": "[encoded data removed]"
     },
     "metadata": {
      "needs_background": "light",
      "image/png": {
       "width": 904,
       "height": 271
      }
     },
     "output_type": "display_data"
    }
   ],
   "execution_count": 187
  },
  {
   "cell_type": "markdown",
   "source": "Creating the model",
   "metadata": {
    "tags": [],
    "cell_id": "00021-08a5a038-c8bb-433c-97ec-2a34f039ec46",
    "deepnote_to_be_reexecuted": false,
    "source_hash": "574518f7",
    "execution_start": 1628487907367,
    "execution_millis": 0,
    "deepnote_cell_type": "markdown"
   },
   "outputs": [],
   "execution_count": 189
  },
  {
   "cell_type": "code",
   "source": "siamese_network = create_siamese_network()\nsiamese_network.summary()\ntf.keras.utils.plot_model(siamese_network, show_shapes = True)",
   "metadata": {
    "tags": [],
    "cell_id": "00013-bf3b48e5-9a89-4839-bdc7-bd1c35204268",
    "deepnote_to_be_reexecuted": false,
    "source_hash": "f8f0860f",
    "execution_start": 1628487911497,
    "execution_millis": 262,
    "deepnote_cell_type": "code"
   },
   "outputs": [
    {
     "name": "stdout",
     "text": "Model: \"functional_31\"\n__________________________________________________________________________________________________\nLayer (type)                    Output Shape         Param #     Connected to                     \n==================================================================================================\ninput_29 (InputLayer)           [(None, 28, 28, 1)]  0                                            \n__________________________________________________________________________________________________\ninput_30 (InputLayer)           [(None, 28, 28, 1)]  0                                            \n__________________________________________________________________________________________________\ninput_31 (InputLayer)           [(None, 28, 28, 1)]  0                                            \n__________________________________________________________________________________________________\nfunctional_29 (Functional)      (None, 128)          65039       input_29[0][0]                   \n                                                                 input_30[0][0]                   \n                                                                 input_31[0][0]                   \n__________________________________________________________________________________________________\ndistance_layer_7 (DistanceLayer ((None,), (None,))   0           functional_29[0][0]              \n                                                                 functional_29[1][0]              \n                                                                 functional_29[2][0]              \n==================================================================================================\nTotal params: 65,039\nTrainable params: 65,039\nNon-trainable params: 0\n__________________________________________________________________________________________________\n",
     "output_type": "stream"
    },
    {
     "output_type": "execute_result",
     "execution_count": 190,
     "data": {
      "image/png": "[encoded data removed]",
      "text/plain": "<IPython.core.display.Image object>"
     },
     "metadata": {
      "image/png": {
       "width": 1475,
       "height": 295
      }
     }
    }
   ],
   "execution_count": 190
  },
  {
   "cell_type": "markdown",
   "source": "Compiling the Model",
   "metadata": {
    "tags": [],
    "cell_id": "00023-37dd87ba-aae2-496f-8737-4d11011d3bfe",
    "deepnote_to_be_reexecuted": false,
    "source_hash": "bba1baca",
    "execution_start": 1628487919114,
    "execution_millis": 6,
    "deepnote_cell_type": "markdown"
   },
   "outputs": [],
   "execution_count": 191
  },
  {
   "cell_type": "code",
   "source": "siamese_model = SiameseModel(siamese_network)\nsiamese_model.compile(optimizer=tf.keras.optimizers.Adam(1e-4), metrics=accuracy)",
   "metadata": {
    "tags": [],
    "cell_id": "00013-add20e12-1905-42f7-8cb3-5fc58a75f4cf",
    "deepnote_to_be_reexecuted": false,
    "source_hash": "c090218a",
    "execution_start": 1628487922348,
    "execution_millis": 15,
    "deepnote_cell_type": "code"
   },
   "outputs": [],
   "execution_count": 192
  },
  {
   "cell_type": "markdown",
   "source": "Training the model",
   "metadata": {
    "tags": [],
    "cell_id": "00025-f96a8492-2b3a-43d9-a599-7096f1044484",
    "deepnote_cell_type": "markdown"
   },
   "outputs": [],
   "execution_count": null
  },
  {
   "cell_type": "code",
   "metadata": {
    "tags": [],
    "cell_id": "00019-2387542d-8563-4139-86ba-48f91cee76ea",
    "deepnote_to_be_reexecuted": false,
    "source_hash": "1869d3e0",
    "execution_start": 1628487930451,
    "execution_millis": 8729,
    "deepnote_cell_type": "code"
   },
   "source": "siamese_model.fit((train_triplets, train_labels), validation_data= ((val_triplets, val_labels)), epochs = 10)",
   "execution_count": 193,
   "outputs": [
    {
     "name": "stdout",
     "text": "Epoch 1/10\n32/32 [==============================] - 1s 26ms/step - loss: 0.4002 - val_loss: 0.2135\nEpoch 2/10\n32/32 [==============================] - 1s 24ms/step - loss: 0.2046 - val_loss: 0.0985\nEpoch 3/10\n32/32 [==============================] - 1s 25ms/step - loss: 0.1062 - val_loss: 0.0513\nEpoch 4/10\n32/32 [==============================] - 1s 25ms/step - loss: 0.0575 - val_loss: 0.0310\nEpoch 5/10\n32/32 [==============================] - 1s 25ms/step - loss: 0.0327 - val_loss: 0.0209\nEpoch 6/10\n32/32 [==============================] - 1s 24ms/step - loss: 0.0207 - val_loss: 0.0173\nEpoch 7/10\n32/32 [==============================] - 1s 26ms/step - loss: 0.0144 - val_loss: 0.0149\nEpoch 8/10\n32/32 [==============================] - 1s 27ms/step - loss: 0.0102 - val_loss: 0.0134\nEpoch 9/10\n32/32 [==============================] - 1s 26ms/step - loss: 0.0077 - val_loss: 0.0122\nEpoch 10/10\n32/32 [==============================] - 1s 26ms/step - loss: 0.0054 - val_loss: 0.0115\n",
     "output_type": "stream"
    },
    {
     "output_type": "execute_result",
     "execution_count": 193,
     "data": {
      "text/plain": "<tensorflow.python.keras.callbacks.History at 0x7faea8867510>"
     },
     "metadata": {}
    }
   ]
  },
  {
   "cell_type": "markdown",
   "source": "<a style='text-decoration:none;line-height:16px;display:flex;color:#5B5B62;padding:10px;justify-content:end;' href='https://deepnote.com?utm_source=created-in-deepnote-cell&projectId=f9d7a30a-760e-4df9-995d-bfc22963224f' target=\"_blank\">\n<img alt='Created in deepnote.com' style='display:inline;max-height:16px;margin:0px;margin-right:7.5px;' src='data:image/svg+xml;base64,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' > </img>\nCreated in <span style='font-weight:600;margin-left:4px;'>Deepnote</span></a>",
   "metadata": {
    "tags": [],
    "created_in_deepnote_cell": true,
    "deepnote_cell_type": "markdown"
   }
  }
 ],
 "nbformat": 4,
 "nbformat_minor": 2,
 "metadata": {
  "orig_nbformat": 2,
  "deepnote": {
   "is_reactive": false
  },
  "deepnote_notebook_id": "d7cc9620-ea48-4838-a178-53b09e425435",
  "deepnote_execution_queue": []
 }
}