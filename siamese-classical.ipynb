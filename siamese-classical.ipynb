{
 "cells": [
  {
   "cell_type": "code",
   "metadata": {
    "tags": [],
    "cell_id": "00000-1e0c29cb-319e-48de-b93f-450b5d059ae3",
    "deepnote_to_be_reexecuted": false,
    "source_hash": "f44f4618",
    "execution_start": 1628407562358,
    "execution_millis": 1,
    "deepnote_cell_type": "code"
   },
   "source": "# !pip install pydot\nimport os\nimport tensorflow as tf\nimport numpy as np\nimport pandas as pd\nimport matplotlib.pyplot as plt\nfrom tensorflow.keras import Input, Model\nfrom tensorflow.keras.layers import Dense, Conv2D, Flatten, MaxPooling2D\nfrom tensorflow.keras.metrics import binary_accuracy\n",
   "outputs": [],
   "execution_count": 26
  },
  {
   "cell_type": "code",
   "metadata": {
    "tags": [],
    "cell_id": "00001-8d75faba-f614-4cb3-ab22-3807e0ffbd91",
    "deepnote_to_be_reexecuted": false,
    "source_hash": "aaee380d",
    "execution_start": 1628407373274,
    "execution_millis": 453,
    "deepnote_cell_type": "code"
   },
   "source": "(x_train, y_train), (x_test, y_test) = tf.keras.datasets.mnist.load_data()\n\n# Rescale the images from [0,255] to the [0.0,1.0] range.\nx_train, x_test = x_train[..., np.newaxis]/255.0, x_test[..., np.newaxis]/255.0\n\nprint(\"Number of original training examples:\", len(x_train))\nprint(\"Number of original test examples:\", len(x_test))",
   "outputs": [
    {
     "name": "stdout",
     "text": "Number of original training examples: 60000\nNumber of original test examples: 10000\n",
     "output_type": "stream"
    }
   ],
   "execution_count": 2
  },
  {
   "cell_type": "code",
   "metadata": {
    "tags": [],
    "cell_id": "00002-33c41fed-6c41-494f-baa6-735ff4009490",
    "deepnote_to_be_reexecuted": false,
    "source_hash": "903376ed",
    "execution_start": 1628407381802,
    "execution_millis": 1,
    "deepnote_cell_type": "code"
   },
   "source": "y_train_cat = tf.keras.utils.to_categorical(y_train)\ny_test_cat = tf.keras.utils.to_categorical(y_test)",
   "outputs": [],
   "execution_count": 4
  },
  {
   "cell_type": "code",
   "metadata": {
    "tags": [],
    "cell_id": "00003-92f83483-eae1-4a68-bc9a-dcf9a15ffa82",
    "deepnote_to_be_reexecuted": false,
    "source_hash": "c835066d",
    "execution_start": 1628407383802,
    "execution_millis": 40,
    "deepnote_cell_type": "code"
   },
   "source": "inputs = Input(shape=(28,28,1))\nx = Conv2D(3, (2, 2), activation=\"relu\")(inputs)\n# x = Conv2D(10, 3, activation = 'relu')(x)\nx = Flatten()(x)\nx = Dense(4, activation= 'relu')(x)\noutputs = Dense(10, activation= 'softmax')(x)\nmodel = Model(inputs=inputs, outputs=outputs)",
   "outputs": [
    {
     "name": "stderr",
     "text": "2021-08-08 07:23:03.809900: I tensorflow/compiler/jit/xla_cpu_device.cc:41] Not creating XLA devices, tf_xla_enable_xla_devices not set\n2021-08-08 07:23:03.810083: W tensorflow/stream_executor/platform/default/dso_loader.cc:60] Could not load dynamic library 'libcuda.so.1'; dlerror: libcuda.so.1: cannot open shared object file: No such file or directory\n2021-08-08 07:23:03.810097: W tensorflow/stream_executor/cuda/cuda_driver.cc:326] failed call to cuInit: UNKNOWN ERROR (303)\n2021-08-08 07:23:03.810117: I tensorflow/stream_executor/cuda/cuda_diagnostics.cc:156] kernel driver does not appear to be running on this host (p-f9d7a30a-760e-4df9-995d-bfc22963224f): /proc/driver/nvidia/version does not exist\n2021-08-08 07:23:03.810300: I tensorflow/core/platform/cpu_feature_guard.cc:142] This TensorFlow binary is optimized with oneAPI Deep Neural Network Library (oneDNN) to use the following CPU instructions in performance-critical operations:  AVX2 AVX512F FMA\nTo enable them in other operations, rebuild TensorFlow with the appropriate compiler flags.\n2021-08-08 07:23:03.810421: I tensorflow/compiler/jit/xla_gpu_device.cc:99] Not creating XLA devices, tf_xla_enable_xla_devices not set\n",
     "output_type": "stream"
    }
   ],
   "execution_count": 5
  },
  {
   "cell_type": "code",
   "metadata": {
    "tags": [],
    "cell_id": "00003-405f7a43-8699-42ba-882f-ed2ee3e05478",
    "deepnote_to_be_reexecuted": false,
    "source_hash": "4e6a3b95",
    "execution_start": 1628407385068,
    "execution_millis": 8,
    "deepnote_cell_type": "code"
   },
   "source": "model.summary()",
   "outputs": [
    {
     "name": "stdout",
     "text": "Model: \"model\"\n_________________________________________________________________\nLayer (type)                 Output Shape              Param #   \n=================================================================\ninput_1 (InputLayer)         [(None, 28, 28, 1)]       0         \n_________________________________________________________________\nconv2d (Conv2D)              (None, 27, 27, 3)         15        \n_________________________________________________________________\nflatten (Flatten)            (None, 2187)              0         \n_________________________________________________________________\ndense (Dense)                (None, 4)                 8752      \n_________________________________________________________________\ndense_1 (Dense)              (None, 10)                50        \n=================================================================\nTotal params: 8,817\nTrainable params: 8,817\nNon-trainable params: 0\n_________________________________________________________________\n",
     "output_type": "stream"
    }
   ],
   "execution_count": 6
  },
  {
   "cell_type": "code",
   "metadata": {
    "tags": [],
    "cell_id": "00004-4f164c68-aee0-426c-9ce2-e33cf5167747",
    "deepnote_to_be_reexecuted": false,
    "source_hash": "2d2ee2f5",
    "execution_start": 1628407390406,
    "execution_millis": 4,
    "deepnote_cell_type": "code"
   },
   "source": "model.compile(loss = tf.keras.losses.categorical_crossentropy,\n                optimizer = tf.keras.optimizers.Adam(),\n                metrics = ['accuracy'])",
   "outputs": [],
   "execution_count": 7
  },
  {
   "cell_type": "code",
   "metadata": {
    "tags": [],
    "cell_id": "00005-150159d7-b3a4-45c1-9109-42f0e0057fd2",
    "deepnote_to_be_reexecuted": false,
    "source_hash": "3d23c62d",
    "execution_start": 1628407404706,
    "execution_millis": 35065,
    "deepnote_cell_type": "code"
   },
   "source": "model.fit(x_train, y_train_cat, epochs = 4)",
   "outputs": [
    {
     "name": "stderr",
     "text": "2021-08-08 07:23:24.778502: W tensorflow/core/framework/cpu_allocator_impl.cc:80] Allocation of 188160000 exceeds 10% of free system memory.\n2021-08-08 07:23:24.957867: I tensorflow/compiler/mlir/mlir_graph_optimization_pass.cc:116] None of the MLIR optimization passes are enabled (registered 2)\n2021-08-08 07:23:24.958328: I tensorflow/core/platform/profile_utils/cpu_utils.cc:112] CPU Frequency: 2500000000 Hz\nEpoch 1/4\n1875/1875 [==============================] - 9s 5ms/step - loss: 1.5521 - accuracy: 0.4492\nEpoch 2/4\n1875/1875 [==============================] - 9s 5ms/step - loss: 0.8120 - accuracy: 0.7611\nEpoch 3/4\n1875/1875 [==============================] - 9s 5ms/step - loss: 0.6552 - accuracy: 0.8136\nEpoch 4/4\n1875/1875 [==============================] - 9s 5ms/step - loss: 0.5848 - accuracy: 0.8313\n",
     "output_type": "stream"
    },
    {
     "output_type": "execute_result",
     "execution_count": 8,
     "data": {
      "text/plain": "<tensorflow.python.keras.callbacks.History at 0x7fe0f816f890>"
     },
     "metadata": {}
    }
   ],
   "execution_count": 8
  },
  {
   "cell_type": "code",
   "metadata": {
    "tags": [],
    "cell_id": "00006-750b75e4-7302-4cbe-a6c7-0836d0f567cd",
    "deepnote_to_be_reexecuted": false,
    "source_hash": "a0450521",
    "execution_start": 1628407442290,
    "execution_millis": 1,
    "deepnote_cell_type": "code"
   },
   "source": "class DistanceLayer(tf.keras.layers.Layer):\n    \"\"\"\n    This layer is responsible for computing the distance between the anchor\n    embedding and the positive embedding, and the anchor embedding and the\n    negative embedding.\n    \"\"\"\n\n    def __init__(self, **kwargs):\n        super().__init__(**kwargs)\n\n    def call(self, anchor, positive, negative):\n        ap_distance = tf.reduce_sum(tf.square(anchor - positive), -1)\n        an_distance = tf.reduce_sum(tf.square(anchor - negative), -1)\n        return (ap_distance, an_distance)\n\ndef create_siamese_twin():\n    \"\"\"\n    creates and returns an embedding model to be used in the siamese architecture\n    \"\"\"\n    # Define the tensors for the two input images\n    input_twin = Input(IMAGE_SHAPE)\n    #x = brand_model(input_twin)\n    x = Conv2D(3, (2, 2), activation=\"relu\")(input_twin)\n    x = MaxPooling2D()(x)\n    # x = Conv2D(512, (2, 2), activation=\"relu\")(x)\n    # x = MaxPooling2D()(x)\n    # x = Conv2D(256, (1, 1), activation=\"relu\")(x)\n    x = Flatten()(x)\n    outputs = Dense(128, name=\"final_dense\", activation=None)(x)\n    return Model(input_twin, outputs)\n\ndef create_siamese_network():\n    \"\"\"\n    creates and returns the final siamese architecture with the embedded model\n    \"\"\"\n    middle_input = Input(IMAGE_SHAPE)\n    left_input = Input(IMAGE_SHAPE)\n    right_input = Input(IMAGE_SHAPE)\n    twin = create_siamese_twin()\n    \n    distances = DistanceLayer()(twin(middle_input), twin(left_input), twin(right_input))\n    \n    model = Model(inputs=[middle_input, left_input, right_input], outputs=distances)\n    return model",
   "outputs": [],
   "execution_count": 9
  },
  {
   "cell_type": "code",
   "metadata": {
    "tags": [],
    "cell_id": "00007-f7974923-8c10-406f-bd73-b06939f41c87",
    "deepnote_to_be_reexecuted": false,
    "source_hash": "304f1195",
    "execution_start": 1628407442624,
    "execution_millis": 20,
    "deepnote_cell_type": "code"
   },
   "source": "class SiameseModel(Model):\n    \"\"\"The Siamese Network model with a custom training and testing loops.\n\n    Computes the triplet loss using the three embeddings produced by the\n    Siamese Network.\n\n    The triplet loss is defined as:\n       L(A, P, N) = max(‖f(A) - f(P)‖² - ‖f(A) - f(N)‖² + margin, 0)\n    \"\"\"\n\n    def __init__(self, siamese_network, margin=0.5):\n        super(SiameseModel, self).__init__()\n        self.siamese_network = siamese_network\n        self.margin = margin\n        self.loss_tracker = metrics.Mean(name=\"loss\")\n        # self.accuracy = SiameseNetworkAccuracy\n\n    def call(self, inputs):\n        return self.siamese_network(inputs)\n\n    def train_step(self, data):\n        # GradientTape is a context manager that records every operation that\n        # you do inside. We are using it here to compute the loss so we can get\n        # the gradients and apply them using the optimizer specified in\n        # `compile()`.\n        with tf.GradientTape() as tape:\n            loss = self._compute_loss(data)\n\n        # Storing the gradients of the loss function with respect to the\n        # weights/parameters.\n        gradients = tape.gradient(loss, self.siamese_network.trainable_weights)\n\n        # Applying the gradients on the model using the specified optimizer\n        self.optimizer.apply_gradients(\n            zip(gradients, self.siamese_network.trainable_weights)\n        )\n\n        # Let's update and return the training loss metric.\n        self.loss_tracker.update_state(loss)\n        # self.loss_tracker.update_state(loss)\n\n        return {\"loss\": self.loss_tracker.result()}  # add accuracy\n\n    def test_step(self, data):\n        loss = self._compute_loss(data)\n\n        # Let's update and return the loss metric.\n        self.loss_tracker.update_state(loss)\n        return {\"loss\": self.loss_tracker.result()}\n\n    def _compute_loss(self, data):\n        # The output of the network is a tuple containing the distances\n        # between the anchor and the positive example, and the anchor and\n        # the negative example.\n        ap_distance, an_distance = self.siamese_network(data)\n\n        # Computing the Triplet Loss by subtracting both distances and\n        # making sure we don't get a negative value.\n        loss = ap_distance - an_distance\n        loss = tf.maximum(loss + self.margin, 0.0)\n        return loss\n\n    @property\n    def metrics(self):\n        # We need to list our metrics here so the `reset_states()` can be\n        # called automatically.\n        return [self.loss_tracker]",
   "outputs": [],
   "execution_count": 10
  },
  {
   "cell_type": "code",
   "metadata": {
    "tags": [],
    "cell_id": "00009-4898a4dc-bbec-44d5-a180-7cf22ef3ebf4",
    "deepnote_to_be_reexecuted": false,
    "source_hash": "657ec51f",
    "execution_start": 1628407443926,
    "execution_millis": 2,
    "deepnote_cell_type": "code"
   },
   "source": "IMAGE_SHAPE = x_train.shape[1:]",
   "outputs": [],
   "execution_count": 11
  },
  {
   "cell_type": "code",
   "metadata": {
    "tags": [],
    "cell_id": "00010-a85d6941-c423-4d83-82ac-35c1398cd3d2",
    "deepnote_to_be_reexecuted": false,
    "source_hash": "3938c520",
    "execution_start": 1628407444206,
    "execution_millis": 211,
    "deepnote_cell_type": "code"
   },
   "source": "siamese_model = create_siamese_network()",
   "outputs": [],
   "execution_count": 12
  },
  {
   "cell_type": "code",
   "metadata": {
    "tags": [],
    "cell_id": "00011-d9cc0f7c-a9b1-4db0-9e14-4bb3e45c59c0",
    "deepnote_to_be_reexecuted": false,
    "source_hash": "476f4576",
    "execution_start": 1628407444453,
    "execution_millis": 6,
    "deepnote_cell_type": "code"
   },
   "source": "siamese_model.summary()",
   "outputs": [
    {
     "name": "stdout",
     "text": "Model: \"model_2\"\n__________________________________________________________________________________________________\nLayer (type)                    Output Shape         Param #     Connected to                     \n==================================================================================================\ninput_2 (InputLayer)            [(None, 28, 28, 1)]  0                                            \n__________________________________________________________________________________________________\ninput_3 (InputLayer)            [(None, 28, 28, 1)]  0                                            \n__________________________________________________________________________________________________\ninput_4 (InputLayer)            [(None, 28, 28, 1)]  0                                            \n__________________________________________________________________________________________________\nmodel_1 (Functional)            (None, 128)          65039       input_2[0][0]                    \n                                                                 input_3[0][0]                    \n                                                                 input_4[0][0]                    \n__________________________________________________________________________________________________\ndistance_layer (DistanceLayer)  ((None,), (None,))   0           model_1[0][0]                    \n                                                                 model_1[1][0]                    \n                                                                 model_1[2][0]                    \n==================================================================================================\nTotal params: 65,039\nTrainable params: 65,039\nNon-trainable params: 0\n__________________________________________________________________________________________________\n",
     "output_type": "stream"
    }
   ],
   "execution_count": 13
  },
  {
   "cell_type": "code",
   "metadata": {
    "tags": [],
    "cell_id": "00012-77dba997-8a16-42bb-88df-e805b8c98950",
    "deepnote_to_be_reexecuted": false,
    "source_hash": "9f04b566",
    "execution_start": 1628407445329,
    "execution_millis": 69,
    "deepnote_cell_type": "code"
   },
   "source": "tf.keras.utils.plot_model(siamese_model)",
   "outputs": [
    {
     "output_type": "execute_result",
     "execution_count": 14,
     "data": {
      "image/png": "[encoded data removed]",
      "text/plain": "<IPython.core.display.Image object>"
     },
     "metadata": {
      "image/png": {
       "width": 699,
       "height": 255
      }
     }
    }
   ],
   "execution_count": 14
  },
  {
   "cell_type": "code",
   "source": "import itertools",
   "metadata": {
    "tags": [],
    "cell_id": "00013-5c845248-f797-454b-9fe1-2de2d2978b2d",
    "deepnote_to_be_reexecuted": false,
    "source_hash": "6a57a483",
    "execution_start": 1628407446861,
    "execution_millis": 1,
    "deepnote_cell_type": "code"
   },
   "outputs": [],
   "execution_count": 15
  },
  {
   "cell_type": "code",
   "source": "NUM_POS = 2\nNUM_NEG = 4",
   "metadata": {
    "tags": [],
    "cell_id": "00014-e920126e-6222-43c1-83ed-0cdce15166e5",
    "deepnote_to_be_reexecuted": false,
    "source_hash": "ba93da0e",
    "execution_start": 1628407447114,
    "execution_millis": 1,
    "deepnote_cell_type": "code"
   },
   "outputs": [],
   "execution_count": 16
  },
  {
   "cell_type": "code",
   "source": "def create_triplets(label_set):\n    triplet_images = []\n    triplets_set = []\n    for label in set(label_set):\n        label_pos_ids = np.where(label_set == label)[0]\n        label_neg_ids = np.where(label_set != label)[0]\n        np.random.shuffle(label_pos_ids)\n        np.random.shuffle(label_neg_ids)\n        \n        positive_examples = label_pos_ids[:NUM_POS]\n        negative_examples = label_neg_ids[:NUM_NEG]\n        triplet_labels = list(itertools.product(positive_examples, positive_examples, negative_examples))\n        for trp in triplet_labels:\n            triplet_images.append([x_train[trp[0]], x_train[trp[1]], x_train[trp[2]]])\n    return triplet_images, np.array([1] * len(triplet_images))",
   "metadata": {
    "tags": [],
    "cell_id": "00014-b07f5dee-408b-4723-a796-6b2986e38dd1",
    "deepnote_to_be_reexecuted": false,
    "source_hash": "5b482b2a",
    "execution_start": 1628408231680,
    "execution_millis": 2,
    "deepnote_cell_type": "code"
   },
   "outputs": [],
   "execution_count": 67
  },
  {
   "cell_type": "code",
   "source": "triplets, labels  = create_triplets(y_train)",
   "metadata": {
    "tags": [],
    "cell_id": "00014-58fac179-5f5e-4dab-87a0-3fc083dd9abf",
    "deepnote_to_be_reexecuted": false,
    "source_hash": "f1a96717",
    "execution_start": 1628408235053,
    "execution_millis": 15,
    "deepnote_cell_type": "code"
   },
   "outputs": [],
   "execution_count": 68
  },
  {
   "cell_type": "code",
   "source": "np.array(triplets).shape, labels.shape, ",
   "metadata": {
    "tags": [],
    "cell_id": "00017-abafa1c6-41f3-460f-bcf0-0bb04d064e24",
    "deepnote_to_be_reexecuted": false,
    "source_hash": "1b198f7a",
    "execution_start": 1628408250866,
    "execution_millis": 4,
    "deepnote_cell_type": "code"
   },
   "outputs": [
    {
     "output_type": "execute_result",
     "execution_count": 70,
     "data": {
      "text/plain": "((160, 3, 28, 28, 1), (160,))"
     },
     "metadata": {}
    }
   ],
   "execution_count": 70
  },
  {
   "cell_type": "code",
   "source": "import matplotlib.pyplot as plt\nnum = 58\nplt.figure(figsize= (16,5))\nplt.subplot(1,3,1)\nplt.imshow(triplets[num][0])\nplt.subplot(1,3,2)\nplt.imshow(triplets[num][1])\nplt.subplot(1,3,3)\nplt.imshow(triplets[num][2])",
   "metadata": {
    "tags": [],
    "cell_id": "00017-aeb5a258-d5bd-48e0-8dbc-9dc90eacde2a",
    "deepnote_to_be_reexecuted": false,
    "source_hash": "bc5969cc",
    "execution_start": 1628408258480,
    "execution_millis": 346,
    "deepnote_cell_type": "code"
   },
   "outputs": [
    {
     "output_type": "execute_result",
     "execution_count": 71,
     "data": {
      "text/plain": "<matplotlib.image.AxesImage at 0x7fe0b99de510>"
     },
     "metadata": {}
    },
    {
     "data": {
      "text/plain": "<Figure size 1152x360 with 3 Axes>",
      "image/png": "[encoded data removed]"
     },
     "metadata": {
      "needs_background": "light",
      "image/png": {
       "width": 926,
       "height": 293
      }
     },
     "output_type": "display_data"
    }
   ],
   "execution_count": 71
  },
  {
   "cell_type": "code",
   "source": "def accuracy(y_true, y_pred):\n    \"\"\"\n    returns the keras binary accuracy\n    \"\"\"\n    return binary_accuracy(y_true, 1 - y_pred)",
   "metadata": {
    "tags": [],
    "cell_id": "00019-8af66237-46ef-417a-8c00-94bb4e3b79a1",
    "deepnote_to_be_reexecuted": false,
    "source_hash": "a4693fdc",
    "execution_start": 1628408264940,
    "execution_millis": 1,
    "deepnote_cell_type": "code"
   },
   "outputs": [],
   "execution_count": 72
  },
  {
   "cell_type": "code",
   "source": "np.array(triplets).shape",
   "metadata": {
    "tags": [],
    "cell_id": "00021-c92d3d80-bcbb-4a18-ac87-27b3ef0150ed",
    "deepnote_to_be_reexecuted": false,
    "source_hash": "a72bede8",
    "execution_start": 1628408272917,
    "execution_millis": 8,
    "deepnote_cell_type": "code"
   },
   "outputs": [
    {
     "output_type": "execute_result",
     "execution_count": 73,
     "data": {
      "text/plain": "(160, 3, 28, 28, 1)"
     },
     "metadata": {}
    }
   ],
   "execution_count": 73
  },
  {
   "cell_type": "code",
   "source": "siamese_model.compile(optimizer=tf.keras.optimizers.Adam(1e-3), metrics=accuracy)",
   "metadata": {
    "tags": [],
    "cell_id": "00022-6eff6c54-c724-4273-b3e4-db99da9b8d43",
    "deepnote_to_be_reexecuted": false,
    "source_hash": "b2b43f4a",
    "execution_start": 1628408290583,
    "execution_millis": 3,
    "deepnote_cell_type": "code"
   },
   "outputs": [],
   "execution_count": 75
  },
  {
   "cell_type": "code",
   "source": "siamese_model.fit(triplets, labels, epochs = 2)",
   "metadata": {
    "tags": [],
    "cell_id": "00019-2387542d-8563-4139-86ba-48f91cee76ea",
    "deepnote_to_be_reexecuted": false,
    "source_hash": "396912b0",
    "execution_start": 1628408290593,
    "execution_millis": 38,
    "deepnote_cell_type": "code"
   },
   "outputs": [
    {
     "output_type": "error",
     "ename": "ValueError",
     "evalue": "Data cardinality is ambiguous:\n  x sizes: 28, 28, 28, 28, 28, 28, 28, 28, 28, 28, 28, 28, 28, 28, 28, 28, 28, 28, 28, 28, 28, 28, 28, 28, 28, 28, 28, 28, 28, 28, 28, 28, 28, 28, 28, 28, 28, 28, 28, 28, 28, 28, 28, 28, 28, 28, 28, 28, 28, 28, 28, 28, 28, 28, 28, 28, 28, 28, 28, 28, 28, 28, 28, 28, 28, 28, 28, 28, 28, 28, 28, 28, 28, 28, 28, 28, 28, 28, 28, 28, 28, 28, 28, 28, 28, 28, 28, 28, 28, 28, 28, 28, 28, 28, 28, 28, 28, 28, 28, 28, 28, 28, 28, 28, 28, 28, 28, 28, 28, 28, 28, 28, 28, 28, 28, 28, 28, 28, 28, 28, 28, 28, 28, 28, 28, 28, 28, 28, 28, 28, 28, 28, 28, 28, 28, 28, 28, 28, 28, 28, 28, 28, 28, 28, 28, 28, 28, 28, 28, 28, 28, 28, 28, 28, 28, 28, 28, 28, 28, 28, 28, 28, 28, 28, 28, 28, 28, 28, 28, 28, 28, 28, 28, 28, 28, 28, 28, 28, 28, 28, 28, 28, 28, 28, 28, 28, 28, 28, 28, 28, 28, 28, 28, 28, 28, 28, 28, 28, 28, 28, 28, 28, 28, 28, 28, 28, 28, 28, 28, 28, 28, 28, 28, 28, 28, 28, 28, 28, 28, 28, 28, 28, 28, 28, 28, 28, 28, 28, 28, 28, 28, 28, 28, 28, 28, 28, 28, 28, 28, 28, 28, 28, 28, 28, 28, 28, 28, 28, 28, 28, 28, 28, 28, 28, 28, 28, 28, 28, 28, 28, 28, 28, 28, 28, 28, 28, 28, 28, 28, 28, 28, 28, 28, 28, 28, 28, 28, 28, 28, 28, 28, 28, 28, 28, 28, 28, 28, 28, 28, 28, 28, 28, 28, 28, 28, 28, 28, 28, 28, 28, 28, 28, 28, 28, 28, 28, 28, 28, 28, 28, 28, 28, 28, 28, 28, 28, 28, 28, 28, 28, 28, 28, 28, 28, 28, 28, 28, 28, 28, 28, 28, 28, 28, 28, 28, 28, 28, 28, 28, 28, 28, 28, 28, 28, 28, 28, 28, 28, 28, 28, 28, 28, 28, 28, 28, 28, 28, 28, 28, 28, 28, 28, 28, 28, 28, 28, 28, 28, 28, 28, 28, 28, 28, 28, 28, 28, 28, 28, 28, 28, 28, 28, 28, 28, 28, 28, 28, 28, 28, 28, 28, 28, 28, 28, 28, 28, 28, 28, 28, 28, 28, 28, 28, 28, 28, 28, 28, 28, 28, 28, 28, 28, 28, 28, 28, 28, 28, 28, 28, 28, 28, 28, 28, 28, 28, 28, 28, 28, 28, 28, 28, 28, 28, 28, 28, 28, 28, 28, 28, 28, 28, 28, 28, 28, 28, 28, 28, 28, 28, 28, 28, 28, 28, 28, 28, 28, 28, 28, 28, 28, 28, 28, 28, 28, 28, 28, 28, 28, 28, 28, 28, 28, 28, 28, 28, 28, 28, 28, 28, 28\n  y sizes: 160\nMake sure all arrays contain the same number of samples.",
     "traceback": [
      "\u001b[0;31m---------------------------------------------------------------------------\u001b[0m",
      "\u001b[0;31mValueError\u001b[0m                                Traceback (most recent call last)",
      "\u001b[0;32m/tmp/ipykernel_1810/4115555879.py\u001b[0m in \u001b[0;36m<module>\u001b[0;34m\u001b[0m\n\u001b[0;32m----> 1\u001b[0;31m \u001b[0msiamese_model\u001b[0m\u001b[0;34m.\u001b[0m\u001b[0mfit\u001b[0m\u001b[0;34m(\u001b[0m\u001b[0mtriplets\u001b[0m\u001b[0;34m,\u001b[0m \u001b[0mlabels\u001b[0m\u001b[0;34m,\u001b[0m \u001b[0mepochs\u001b[0m \u001b[0;34m=\u001b[0m \u001b[0;36m2\u001b[0m\u001b[0;34m)\u001b[0m\u001b[0;34m\u001b[0m\u001b[0;34m\u001b[0m\u001b[0m\n\u001b[0m",
      "\u001b[0;32m/shared-libs/python3.7/py/lib/python3.7/site-packages/tensorflow/python/keras/engine/training.py\u001b[0m in \u001b[0;36mfit\u001b[0;34m(self, x, y, batch_size, epochs, verbose, callbacks, validation_split, validation_data, shuffle, class_weight, sample_weight, initial_epoch, steps_per_epoch, validation_steps, validation_batch_size, validation_freq, max_queue_size, workers, use_multiprocessing)\u001b[0m\n\u001b[1;32m   1062\u001b[0m           \u001b[0muse_multiprocessing\u001b[0m\u001b[0;34m=\u001b[0m\u001b[0muse_multiprocessing\u001b[0m\u001b[0;34m,\u001b[0m\u001b[0;34m\u001b[0m\u001b[0;34m\u001b[0m\u001b[0m\n\u001b[1;32m   1063\u001b[0m           \u001b[0mmodel\u001b[0m\u001b[0;34m=\u001b[0m\u001b[0mself\u001b[0m\u001b[0;34m,\u001b[0m\u001b[0;34m\u001b[0m\u001b[0;34m\u001b[0m\u001b[0m\n\u001b[0;32m-> 1064\u001b[0;31m           steps_per_execution=self._steps_per_execution)\n\u001b[0m\u001b[1;32m   1065\u001b[0m \u001b[0;34m\u001b[0m\u001b[0m\n\u001b[1;32m   1066\u001b[0m       \u001b[0;31m# Container that configures and calls `tf.keras.Callback`s.\u001b[0m\u001b[0;34m\u001b[0m\u001b[0;34m\u001b[0m\u001b[0;34m\u001b[0m\u001b[0m\n",
      "\u001b[0;32m/shared-libs/python3.7/py/lib/python3.7/site-packages/tensorflow/python/keras/engine/data_adapter.py\u001b[0m in \u001b[0;36m__init__\u001b[0;34m(self, x, y, sample_weight, batch_size, steps_per_epoch, initial_epoch, epochs, shuffle, class_weight, max_queue_size, workers, use_multiprocessing, model, steps_per_execution)\u001b[0m\n\u001b[1;32m   1110\u001b[0m         \u001b[0muse_multiprocessing\u001b[0m\u001b[0;34m=\u001b[0m\u001b[0muse_multiprocessing\u001b[0m\u001b[0;34m,\u001b[0m\u001b[0;34m\u001b[0m\u001b[0;34m\u001b[0m\u001b[0m\n\u001b[1;32m   1111\u001b[0m         \u001b[0mdistribution_strategy\u001b[0m\u001b[0;34m=\u001b[0m\u001b[0mds_context\u001b[0m\u001b[0;34m.\u001b[0m\u001b[0mget_strategy\u001b[0m\u001b[0;34m(\u001b[0m\u001b[0;34m)\u001b[0m\u001b[0;34m,\u001b[0m\u001b[0;34m\u001b[0m\u001b[0;34m\u001b[0m\u001b[0m\n\u001b[0;32m-> 1112\u001b[0;31m         model=model)\n\u001b[0m\u001b[1;32m   1113\u001b[0m \u001b[0;34m\u001b[0m\u001b[0m\n\u001b[1;32m   1114\u001b[0m     \u001b[0mstrategy\u001b[0m \u001b[0;34m=\u001b[0m \u001b[0mds_context\u001b[0m\u001b[0;34m.\u001b[0m\u001b[0mget_strategy\u001b[0m\u001b[0;34m(\u001b[0m\u001b[0;34m)\u001b[0m\u001b[0;34m\u001b[0m\u001b[0;34m\u001b[0m\u001b[0m\n",
      "\u001b[0;32m/shared-libs/python3.7/py/lib/python3.7/site-packages/tensorflow/python/keras/engine/data_adapter.py\u001b[0m in \u001b[0;36m__init__\u001b[0;34m(self, x, y, sample_weights, sample_weight_modes, batch_size, epochs, steps, shuffle, **kwargs)\u001b[0m\n\u001b[1;32m    272\u001b[0m \u001b[0;34m\u001b[0m\u001b[0m\n\u001b[1;32m    273\u001b[0m     \u001b[0mnum_samples\u001b[0m \u001b[0;34m=\u001b[0m \u001b[0mset\u001b[0m\u001b[0;34m(\u001b[0m\u001b[0mint\u001b[0m\u001b[0;34m(\u001b[0m\u001b[0mi\u001b[0m\u001b[0;34m.\u001b[0m\u001b[0mshape\u001b[0m\u001b[0;34m[\u001b[0m\u001b[0;36m0\u001b[0m\u001b[0;34m]\u001b[0m\u001b[0;34m)\u001b[0m \u001b[0;32mfor\u001b[0m \u001b[0mi\u001b[0m \u001b[0;32min\u001b[0m \u001b[0mnest\u001b[0m\u001b[0;34m.\u001b[0m\u001b[0mflatten\u001b[0m\u001b[0;34m(\u001b[0m\u001b[0minputs\u001b[0m\u001b[0;34m)\u001b[0m\u001b[0;34m)\u001b[0m\u001b[0;34m.\u001b[0m\u001b[0mpop\u001b[0m\u001b[0;34m(\u001b[0m\u001b[0;34m)\u001b[0m\u001b[0;34m\u001b[0m\u001b[0;34m\u001b[0m\u001b[0m\n\u001b[0;32m--> 274\u001b[0;31m     \u001b[0m_check_data_cardinality\u001b[0m\u001b[0;34m(\u001b[0m\u001b[0minputs\u001b[0m\u001b[0;34m)\u001b[0m\u001b[0;34m\u001b[0m\u001b[0;34m\u001b[0m\u001b[0m\n\u001b[0m\u001b[1;32m    275\u001b[0m \u001b[0;34m\u001b[0m\u001b[0m\n\u001b[1;32m    276\u001b[0m     \u001b[0;31m# If batch_size is not passed but steps is, calculate from the input data.\u001b[0m\u001b[0;34m\u001b[0m\u001b[0;34m\u001b[0m\u001b[0;34m\u001b[0m\u001b[0m\n",
      "\u001b[0;32m/shared-libs/python3.7/py/lib/python3.7/site-packages/tensorflow/python/keras/engine/data_adapter.py\u001b[0m in \u001b[0;36m_check_data_cardinality\u001b[0;34m(data)\u001b[0m\n\u001b[1;32m   1527\u001b[0m           label, \", \".join(str(i.shape[0]) for i in nest.flatten(single_data)))\n\u001b[1;32m   1528\u001b[0m     \u001b[0mmsg\u001b[0m \u001b[0;34m+=\u001b[0m \u001b[0;34m\"Make sure all arrays contain the same number of samples.\"\u001b[0m\u001b[0;34m\u001b[0m\u001b[0;34m\u001b[0m\u001b[0m\n\u001b[0;32m-> 1529\u001b[0;31m     \u001b[0;32mraise\u001b[0m \u001b[0mValueError\u001b[0m\u001b[0;34m(\u001b[0m\u001b[0mmsg\u001b[0m\u001b[0;34m)\u001b[0m\u001b[0;34m\u001b[0m\u001b[0;34m\u001b[0m\u001b[0m\n\u001b[0m\u001b[1;32m   1530\u001b[0m \u001b[0;34m\u001b[0m\u001b[0m\n\u001b[1;32m   1531\u001b[0m \u001b[0;34m\u001b[0m\u001b[0m\n",
      "\u001b[0;31mValueError\u001b[0m: Data cardinality is ambiguous:\n  x sizes: 28, 28, 28, 28, 28, 28, 28, 28, 28, 28, 28, 28, 28, 28, 28, 28, 28, 28, 28, 28, 28, 28, 28, 28, 28, 28, 28, 28, 28, 28, 28, 28, 28, 28, 28, 28, 28, 28, 28, 28, 28, 28, 28, 28, 28, 28, 28, 28, 28, 28, 28, 28, 28, 28, 28, 28, 28, 28, 28, 28, 28, 28, 28, 28, 28, 28, 28, 28, 28, 28, 28, 28, 28, 28, 28, 28, 28, 28, 28, 28, 28, 28, 28, 28, 28, 28, 28, 28, 28, 28, 28, 28, 28, 28, 28, 28, 28, 28, 28, 28, 28, 28, 28, 28, 28, 28, 28, 28, 28, 28, 28, 28, 28, 28, 28, 28, 28, 28, 28, 28, 28, 28, 28, 28, 28, 28, 28, 28, 28, 28, 28, 28, 28, 28, 28, 28, 28, 28, 28, 28, 28, 28, 28, 28, 28, 28, 28, 28, 28, 28, 28, 28, 28, 28, 28, 28, 28, 28, 28, 28, 28, 28, 28, 28, 28, 28, 28, 28, 28, 28, 28, 28, 28, 28, 28, 28, 28, 28, 28, 28, 28, 28, 28, 28, 28, 28, 28, 28, 28, 28, 28, 28, 28, 28, 28, 28, 28, 28, 28, 28, 28, 28, 28, 28, 28, 28, 28, 28, 28, 28, 28, 28, 28, 28, 28, 28, 28, 28, 28, 28, 28, 28, 28, 28, 28, 28, 28, 28, 28, 28, 28, 28, 28, 28, 28, 28, 28, 28, 28, 28, 28, 28, 28, 28, 28, 28, 28, 28, 28, 28, 28, 28, 28, 28, 28, 28, 28, 28, 28, 28, 28, 28, 28, 28, 28, 28, 28, 28, 28, 28, 28, 28, 28, 28, 28, 28, 28, 28, 28, 28, 28, 28, 28, 28, 28, 28, 28, 28, 28, 28, 28, 28, 28, 28, 28, 28, 28, 28, 28, 28, 28, 28, 28, 28, 28, 28, 28, 28, 28, 28, 28, 28, 28, 28, 28, 28, 28, 28, 28, 28, 28, 28, 28, 28, 28, 28, 28, 28, 28, 28, 28, 28, 28, 28, 28, 28, 28, 28, 28, 28, 28, 28, 28, 28, 28, 28, 28, 28, 28, 28, 28, 28, 28, 28, 28, 28, 28, 28, 28, 28, 28, 28, 28, 28, 28, 28, 28, 28, 28, 28, 28, 28, 28, 28, 28, 28, 28, 28, 28, 28, 28, 28, 28, 28, 28, 28, 28, 28, 28, 28, 28, 28, 28, 28, 28, 28, 28, 28, 28, 28, 28, 28, 28, 28, 28, 28, 28, 28, 28, 28, 28, 28, 28, 28, 28, 28, 28, 28, 28, 28, 28, 28, 28, 28, 28, 28, 28, 28, 28, 28, 28, 28, 28, 28, 28, 28, 28, 28, 28, 28, 28, 28, 28, 28, 28, 28, 28, 28, 28, 28, 28, 28, 28, 28, 28, 28, 28, 28, 28, 28, 28, 28, 28, 28, 28, 28, 28, 28, 28, 28, 28, 28, 28, 28, 28, 28, 28, 28, 28, 28\n  y sizes: 160\nMake sure all arrays contain the same number of samples."
     ]
    }
   ],
   "execution_count": 76
  },
  {
   "cell_type": "code",
   "source": "",
   "metadata": {
    "tags": [],
    "cell_id": "00020-562d2994-3ce1-429e-8bc5-492c6d5f996d",
    "deepnote_cell_type": "code"
   },
   "outputs": [],
   "execution_count": null
  },
  {
   "cell_type": "code",
   "source": "",
   "metadata": {
    "tags": [],
    "cell_id": "00021-ce86d10a-3e24-4757-8467-0cae90569558",
    "deepnote_cell_type": "code"
   },
   "outputs": [],
   "execution_count": null
  },
  {
   "cell_type": "code",
   "source": "",
   "metadata": {
    "tags": [],
    "cell_id": "00022-1bfc32b7-3c04-44e2-90b8-aadad47f57c1",
    "deepnote_cell_type": "code"
   },
   "outputs": [],
   "execution_count": null
  },
  {
   "cell_type": "code",
   "source": "",
   "metadata": {
    "tags": [],
    "cell_id": "00022-03a82d9f-030a-402c-b126-4f28f3095147",
    "deepnote_cell_type": "code"
   },
   "outputs": [],
   "execution_count": null
  },
  {
   "cell_type": "code",
   "source": "",
   "metadata": {
    "tags": [],
    "cell_id": "00023-b8c84e7d-756a-4eba-a734-d5f2dc0f9c15",
    "deepnote_cell_type": "code"
   },
   "outputs": [],
   "execution_count": null
  },
  {
   "cell_type": "code",
   "source": "",
   "metadata": {
    "tags": [],
    "cell_id": "00025-4846cf3d-957c-46eb-bc3d-b3a4e2160ec7",
    "deepnote_cell_type": "code"
   },
   "outputs": [],
   "execution_count": null
  },
  {
   "cell_type": "code",
   "source": "",
   "metadata": {
    "tags": [],
    "cell_id": "00025-9c45540f-f520-4b99-a43c-03d2bd6d6c7f",
    "deepnote_cell_type": "code"
   },
   "outputs": [],
   "execution_count": null
  },
  {
   "cell_type": "markdown",
   "source": "<a style='text-decoration:none;line-height:16px;display:flex;color:#5B5B62;padding:10px;justify-content:end;' href='https://deepnote.com?utm_source=created-in-deepnote-cell&projectId=f9d7a30a-760e-4df9-995d-bfc22963224f' target=\"_blank\">\n<img alt='Created in deepnote.com' style='display:inline;max-height:16px;margin:0px;margin-right:7.5px;' src='data:image/svg+xml;base64,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' > </img>\nCreated in <span style='font-weight:600;margin-left:4px;'>Deepnote</span></a>",
   "metadata": {
    "tags": [],
    "created_in_deepnote_cell": true,
    "deepnote_cell_type": "markdown"
   }
  }
 ],
 "nbformat": 4,
 "nbformat_minor": 2,
 "metadata": {
  "orig_nbformat": 2,
  "deepnote": {
   "is_reactive": false
  },
  "deepnote_notebook_id": "d7cc9620-ea48-4838-a178-53b09e425435",
  "deepnote_execution_queue": []
 }
}