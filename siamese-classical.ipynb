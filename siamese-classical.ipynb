{
 "cells": [
  {
   "cell_type": "code",
   "metadata": {
    "tags": [],
    "cell_id": "00000-1e0c29cb-319e-48de-b93f-450b5d059ae3",
    "deepnote_to_be_reexecuted": false,
    "source_hash": "ed9ca013",
    "execution_start": 1628403280739,
    "execution_millis": 5,
    "deepnote_cell_type": "code"
   },
   "source": "import os\nimport tensorflow\nimport tensorflow as tf\nimport numpy as np\nimport pandas as pd\nfrom tensorflow.keras import Input, Model\nfrom tensorflow.keras.layers import Dense, Conv2D, Flatten, MaxPooling2D",
   "outputs": [],
   "execution_count": 24
  },
  {
   "cell_type": "code",
   "metadata": {
    "tags": [],
    "cell_id": "00001-8d75faba-f614-4cb3-ab22-3807e0ffbd91",
    "deepnote_to_be_reexecuted": false,
    "source_hash": "3e4a4901",
    "execution_start": 1628402519774,
    "execution_millis": 460,
    "deepnote_cell_type": "code"
   },
   "source": "(x_train, y_train), (x_test, y_test) = tensorflow.keras.datasets.mnist.load_data()\n\n# Rescale the images from [0,255] to the [0.0,1.0] range.\nx_train, x_test = x_train[..., np.newaxis]/255.0, x_test[..., np.newaxis]/255.0\n\nprint(\"Number of original training examples:\", len(x_train))\nprint(\"Number of original test examples:\", len(x_test))",
   "outputs": [
    {
     "name": "stdout",
     "text": "Number of original training examples: 60000\nNumber of original test examples: 10000\n",
     "output_type": "stream"
    }
   ],
   "execution_count": 4
  },
  {
   "cell_type": "code",
   "metadata": {
    "tags": [],
    "cell_id": "00002-33c41fed-6c41-494f-baa6-735ff4009490",
    "deepnote_to_be_reexecuted": false,
    "source_hash": "25a6306b",
    "execution_start": 1628402521314,
    "execution_millis": 4,
    "deepnote_cell_type": "code"
   },
   "source": "y_train = tensorflow.keras.utils.to_categorical(y_train)\ny_test = tensorflow.keras.utils.to_categorical(y_test)",
   "outputs": [],
   "execution_count": 5
  },
  {
   "cell_type": "code",
   "metadata": {
    "tags": [],
    "cell_id": "00003-92f83483-eae1-4a68-bc9a-dcf9a15ffa82",
    "deepnote_to_be_reexecuted": false,
    "source_hash": "d8f4cd8b",
    "execution_start": 1628402521879,
    "execution_millis": 46,
    "deepnote_cell_type": "code"
   },
   "source": "inputs = Input(shape=(28,28,1))\nx = Conv2D(5, 3, activation = 'relu')(inputs)\n# x = Conv2D(10, 3, activation = 'relu')(x)\nx = Flatten()(x)\nx = Dense(4, activation= 'relu')(x)\noutputs = Dense(10, activation= 'softmax')(x)\nmodel = Model(inputs=inputs, outputs=outputs)",
   "outputs": [
    {
     "name": "stderr",
     "text": "2021-08-08 06:02:01.890163: I tensorflow/compiler/jit/xla_cpu_device.cc:41] Not creating XLA devices, tf_xla_enable_xla_devices not set\n2021-08-08 06:02:01.890371: W tensorflow/stream_executor/platform/default/dso_loader.cc:60] Could not load dynamic library 'libcuda.so.1'; dlerror: libcuda.so.1: cannot open shared object file: No such file or directory\n2021-08-08 06:02:01.890385: W tensorflow/stream_executor/cuda/cuda_driver.cc:326] failed call to cuInit: UNKNOWN ERROR (303)\n2021-08-08 06:02:01.890406: I tensorflow/stream_executor/cuda/cuda_diagnostics.cc:156] kernel driver does not appear to be running on this host (p-f9d7a30a-760e-4df9-995d-bfc22963224f): /proc/driver/nvidia/version does not exist\n2021-08-08 06:02:01.890633: I tensorflow/core/platform/cpu_feature_guard.cc:142] This TensorFlow binary is optimized with oneAPI Deep Neural Network Library (oneDNN) to use the following CPU instructions in performance-critical operations:  AVX2 AVX512F FMA\nTo enable them in other operations, rebuild TensorFlow with the appropriate compiler flags.\n2021-08-08 06:02:01.890777: I tensorflow/compiler/jit/xla_gpu_device.cc:99] Not creating XLA devices, tf_xla_enable_xla_devices not set\n",
     "output_type": "stream"
    }
   ],
   "execution_count": 6
  },
  {
   "cell_type": "code",
   "metadata": {
    "tags": [],
    "cell_id": "00003-405f7a43-8699-42ba-882f-ed2ee3e05478",
    "deepnote_to_be_reexecuted": false,
    "source_hash": "4e6a3b95",
    "execution_start": 1628402522573,
    "execution_millis": 8,
    "deepnote_cell_type": "code"
   },
   "source": "model.summary()",
   "outputs": [
    {
     "name": "stdout",
     "text": "Model: \"model\"\n_________________________________________________________________\nLayer (type)                 Output Shape              Param #   \n=================================================================\ninput_1 (InputLayer)         [(None, 28, 28, 1)]       0         \n_________________________________________________________________\nconv2d (Conv2D)              (None, 26, 26, 5)         50        \n_________________________________________________________________\nflatten (Flatten)            (None, 3380)              0         \n_________________________________________________________________\ndense (Dense)                (None, 4)                 13524     \n_________________________________________________________________\ndense_1 (Dense)              (None, 10)                50        \n=================================================================\nTotal params: 13,624\nTrainable params: 13,624\nNon-trainable params: 0\n_________________________________________________________________\n",
     "output_type": "stream"
    }
   ],
   "execution_count": 7
  },
  {
   "cell_type": "code",
   "metadata": {
    "tags": [],
    "cell_id": "00004-4f164c68-aee0-426c-9ce2-e33cf5167747",
    "deepnote_to_be_reexecuted": false,
    "source_hash": "6e87e3cf",
    "execution_start": 1628402535556,
    "execution_millis": 7,
    "deepnote_cell_type": "code"
   },
   "source": "model.compile(loss = tensorflow.keras.losses.categorical_crossentropy,\n                optimizer = tensorflow.keras.optimizers.Adam(),\n                metrics = ['accuracy'])",
   "outputs": [],
   "execution_count": 10
  },
  {
   "cell_type": "code",
   "metadata": {
    "tags": [],
    "cell_id": "00005-150159d7-b3a4-45c1-9109-42f0e0057fd2",
    "deepnote_to_be_reexecuted": false,
    "source_hash": "bf5722cb",
    "execution_start": 1628402537475,
    "execution_millis": 45232,
    "deepnote_cell_type": "code"
   },
   "source": "model.fit(x_train, y_train, epochs = 4)",
   "outputs": [
    {
     "name": "stderr",
     "text": "2021-08-08 06:02:17.695346: I tensorflow/compiler/mlir/mlir_graph_optimization_pass.cc:116] None of the MLIR optimization passes are enabled (registered 2)\n2021-08-08 06:02:17.712148: I tensorflow/core/platform/profile_utils/cpu_utils.cc:112] CPU Frequency: 2500000000 Hz\nEpoch 1/4\n1875/1875 [==============================] - 12s 6ms/step - loss: 1.0777 - accuracy: 0.6587\nEpoch 2/4\n1875/1875 [==============================] - 11s 6ms/step - loss: 0.5203 - accuracy: 0.8588\nEpoch 3/4\n1875/1875 [==============================] - 11s 6ms/step - loss: 0.4114 - accuracy: 0.8843\nEpoch 4/4\n1875/1875 [==============================] - 11s 6ms/step - loss: 0.3350 - accuracy: 0.9069\n",
     "output_type": "stream"
    },
    {
     "output_type": "execute_result",
     "execution_count": 11,
     "data": {
      "text/plain": "<tensorflow.python.keras.callbacks.History at 0x7f34ea5c54d0>"
     },
     "metadata": {}
    }
   ],
   "execution_count": 11
  },
  {
   "cell_type": "code",
   "metadata": {
    "tags": [],
    "cell_id": "00006-750b75e4-7302-4cbe-a6c7-0836d0f567cd",
    "deepnote_to_be_reexecuted": false,
    "source_hash": "a0450521",
    "execution_start": 1628403384479,
    "execution_millis": 9,
    "deepnote_cell_type": "code"
   },
   "source": "class DistanceLayer(tf.keras.layers.Layer):\n    \"\"\"\n    This layer is responsible for computing the distance between the anchor\n    embedding and the positive embedding, and the anchor embedding and the\n    negative embedding.\n    \"\"\"\n\n    def __init__(self, **kwargs):\n        super().__init__(**kwargs)\n\n    def call(self, anchor, positive, negative):\n        ap_distance = tf.reduce_sum(tf.square(anchor - positive), -1)\n        an_distance = tf.reduce_sum(tf.square(anchor - negative), -1)\n        return (ap_distance, an_distance)\n\ndef create_siamese_twin():\n    \"\"\"\n    creates and returns an embedding model to be used in the siamese architecture\n    \"\"\"\n    # Define the tensors for the two input images\n    input_twin = Input(IMAGE_SHAPE)\n    #x = brand_model(input_twin)\n    x = Conv2D(3, (2, 2), activation=\"relu\")(input_twin)\n    x = MaxPooling2D()(x)\n    # x = Conv2D(512, (2, 2), activation=\"relu\")(x)\n    # x = MaxPooling2D()(x)\n    # x = Conv2D(256, (1, 1), activation=\"relu\")(x)\n    x = Flatten()(x)\n    outputs = Dense(128, name=\"final_dense\", activation=None)(x)\n    return Model(input_twin, outputs)\n\ndef create_siamese_network():\n    \"\"\"\n    creates and returns the final siamese architecture with the embedded model\n    \"\"\"\n    middle_input = Input(IMAGE_SHAPE)\n    left_input = Input(IMAGE_SHAPE)\n    right_input = Input(IMAGE_SHAPE)\n    twin = create_siamese_twin()\n    \n    distances = DistanceLayer()(twin(middle_input), twin(left_input), twin(right_input))\n    \n    model = Model(inputs=[middle_input, left_input, right_input], outputs=distances)\n    return model",
   "outputs": [],
   "execution_count": 37
  },
  {
   "cell_type": "code",
   "metadata": {
    "tags": [],
    "cell_id": "00007-f7974923-8c10-406f-bd73-b06939f41c87",
    "deepnote_to_be_reexecuted": false,
    "source_hash": "304f1195",
    "execution_start": 1628403314791,
    "execution_millis": 0,
    "deepnote_cell_type": "code"
   },
   "source": "class SiameseModel(Model):\n    \"\"\"The Siamese Network model with a custom training and testing loops.\n\n    Computes the triplet loss using the three embeddings produced by the\n    Siamese Network.\n\n    The triplet loss is defined as:\n       L(A, P, N) = max(‖f(A) - f(P)‖² - ‖f(A) - f(N)‖² + margin, 0)\n    \"\"\"\n\n    def __init__(self, siamese_network, margin=0.5):\n        super(SiameseModel, self).__init__()\n        self.siamese_network = siamese_network\n        self.margin = margin\n        self.loss_tracker = metrics.Mean(name=\"loss\")\n        # self.accuracy = SiameseNetworkAccuracy\n\n    def call(self, inputs):\n        return self.siamese_network(inputs)\n\n    def train_step(self, data):\n        # GradientTape is a context manager that records every operation that\n        # you do inside. We are using it here to compute the loss so we can get\n        # the gradients and apply them using the optimizer specified in\n        # `compile()`.\n        with tf.GradientTape() as tape:\n            loss = self._compute_loss(data)\n\n        # Storing the gradients of the loss function with respect to the\n        # weights/parameters.\n        gradients = tape.gradient(loss, self.siamese_network.trainable_weights)\n\n        # Applying the gradients on the model using the specified optimizer\n        self.optimizer.apply_gradients(\n            zip(gradients, self.siamese_network.trainable_weights)\n        )\n\n        # Let's update and return the training loss metric.\n        self.loss_tracker.update_state(loss)\n        # self.loss_tracker.update_state(loss)\n\n        return {\"loss\": self.loss_tracker.result()}  # add accuracy\n\n    def test_step(self, data):\n        loss = self._compute_loss(data)\n\n        # Let's update and return the loss metric.\n        self.loss_tracker.update_state(loss)\n        return {\"loss\": self.loss_tracker.result()}\n\n    def _compute_loss(self, data):\n        # The output of the network is a tuple containing the distances\n        # between the anchor and the positive example, and the anchor and\n        # the negative example.\n        ap_distance, an_distance = self.siamese_network(data)\n\n        # Computing the Triplet Loss by subtracting both distances and\n        # making sure we don't get a negative value.\n        loss = ap_distance - an_distance\n        loss = tf.maximum(loss + self.margin, 0.0)\n        return loss\n\n    @property\n    def metrics(self):\n        # We need to list our metrics here so the `reset_states()` can be\n        # called automatically.\n        return [self.loss_tracker]",
   "outputs": [],
   "execution_count": 29
  },
  {
   "cell_type": "code",
   "metadata": {
    "tags": [],
    "cell_id": "00009-4898a4dc-bbec-44d5-a180-7cf22ef3ebf4",
    "deepnote_to_be_reexecuted": false,
    "source_hash": "657ec51f",
    "execution_start": 1628403315749,
    "execution_millis": 1,
    "deepnote_cell_type": "code"
   },
   "source": "IMAGE_SHAPE = x_train.shape[1:]",
   "outputs": [],
   "execution_count": 30
  },
  {
   "cell_type": "code",
   "metadata": {
    "tags": [],
    "cell_id": "00010-a85d6941-c423-4d83-82ac-35c1398cd3d2",
    "deepnote_to_be_reexecuted": false,
    "source_hash": "3938c520",
    "execution_start": 1628403388122,
    "execution_millis": 197,
    "deepnote_cell_type": "code"
   },
   "source": "siamese_model = create_siamese_network()",
   "outputs": [],
   "execution_count": 38
  },
  {
   "cell_type": "code",
   "metadata": {
    "tags": [],
    "cell_id": "00011-381f79ab-12c0-4a68-97c4-c738e5370df3",
    "deepnote_cell_type": "code"
   },
   "source": "",
   "execution_count": null,
   "outputs": []
  },
  {
   "cell_type": "code",
   "metadata": {
    "tags": [],
    "cell_id": "00011-d9cc0f7c-a9b1-4db0-9e14-4bb3e45c59c0",
    "deepnote_to_be_reexecuted": false,
    "source_hash": "476f4576",
    "execution_start": 1628403400722,
    "execution_millis": 15,
    "deepnote_cell_type": "code"
   },
   "source": "siamese_model.summary()",
   "outputs": [
    {
     "name": "stdout",
     "text": "Model: \"model_8\"\n__________________________________________________________________________________________________\nLayer (type)                    Output Shape         Param #     Connected to                     \n==================================================================================================\ninput_18 (InputLayer)           [(None, 28, 28, 1)]  0                                            \n__________________________________________________________________________________________________\ninput_19 (InputLayer)           [(None, 28, 28, 1)]  0                                            \n__________________________________________________________________________________________________\ninput_20 (InputLayer)           [(None, 28, 28, 1)]  0                                            \n__________________________________________________________________________________________________\nmodel_7 (Functional)            (None, 128)          65039       input_18[0][0]                   \n                                                                 input_19[0][0]                   \n                                                                 input_20[0][0]                   \n__________________________________________________________________________________________________\ndistance_layer (DistanceLayer)  ((None,), (None,))   0           model_7[0][0]                    \n                                                                 model_7[1][0]                    \n                                                                 model_7[2][0]                    \n==================================================================================================\nTotal params: 65,039\nTrainable params: 65,039\nNon-trainable params: 0\n__________________________________________________________________________________________________\n",
     "output_type": "stream"
    }
   ],
   "execution_count": 41
  },
  {
   "cell_type": "code",
   "metadata": {
    "tags": [],
    "cell_id": "00012-77dba997-8a16-42bb-88df-e805b8c98950",
    "deepnote_cell_type": "code"
   },
   "source": "",
   "execution_count": null,
   "outputs": []
  },
  {
   "cell_type": "markdown",
   "source": "<a style='text-decoration:none;line-height:16px;display:flex;color:#5B5B62;padding:10px;justify-content:end;' href='https://deepnote.com?utm_source=created-in-deepnote-cell&projectId=f9d7a30a-760e-4df9-995d-bfc22963224f' target=\"_blank\">\n<img alt='Created in deepnote.com' style='display:inline;max-height:16px;margin:0px;margin-right:7.5px;' src='data:image/svg+xml;base64,PD94bWwgdmVyc2lvbj0iMS4wIiBlbmNvZGluZz0iVVRGLTgiPz4KPHN2ZyB3aWR0aD0iODBweCIgaGVpZ2h0PSI4MHB4IiB2aWV3Qm94PSIwIDAgODAgODAiIHZlcnNpb249IjEuMSIgeG1sbnM9Imh0dHA6Ly93d3cudzMub3JnLzIwMDAvc3ZnIiB4bWxuczp4bGluaz0iaHR0cDovL3d3dy53My5vcmcvMTk5OS94bGluayI+CiAgICA8IS0tIEdlbmVyYXRvcjogU2tldGNoIDU0LjEgKDc2NDkwKSAtIGh0dHBzOi8vc2tldGNoYXBwLmNvbSAtLT4KICAgIDx0aXRsZT5Hcm91cCAzPC90aXRsZT4KICAgIDxkZXNjPkNyZWF0ZWQgd2l0aCBTa2V0Y2guPC9kZXNjPgogICAgPGcgaWQ9IkxhbmRpbmciIHN0cm9rZT0ibm9uZSIgc3Ryb2tlLXdpZHRoPSIxIiBmaWxsPSJub25lIiBmaWxsLXJ1bGU9ImV2ZW5vZGQiPgogICAgICAgIDxnIGlkPSJBcnRib2FyZCIgdHJhbnNmb3JtPSJ0cmFuc2xhdGUoLTEyMzUuMDAwMDAwLCAtNzkuMDAwMDAwKSI+CiAgICAgICAgICAgIDxnIGlkPSJHcm91cC0zIiB0cmFuc2Zvcm09InRyYW5zbGF0ZSgxMjM1LjAwMDAwMCwgNzkuMDAwMDAwKSI+CiAgICAgICAgICAgICAgICA8cG9seWdvbiBpZD0iUGF0aC0yMCIgZmlsbD0iIzAyNjVCNCIgcG9pbnRzPSIyLjM3NjIzNzYyIDgwIDM4LjA0NzY2NjcgODAgNTcuODIxNzgyMiA3My44MDU3NTkyIDU3LjgyMTc4MjIgMzIuNzU5MjczOSAzOS4xNDAyMjc4IDMxLjY4MzE2ODMiPjwvcG9seWdvbj4KICAgICAgICAgICAgICAgIDxwYXRoIGQ9Ik0zNS4wMDc3MTgsODAgQzQyLjkwNjIwMDcsNzYuNDU0OTM1OCA0Ny41NjQ5MTY3LDcxLjU0MjI2NzEgNDguOTgzODY2LDY1LjI2MTk5MzkgQzUxLjExMjI4OTksNTUuODQxNTg0MiA0MS42NzcxNzk1LDQ5LjIxMjIyODQgMjUuNjIzOTg0Niw0OS4yMTIyMjg0IEMyNS40ODQ5Mjg5LDQ5LjEyNjg0NDggMjkuODI2MTI5Niw0My4yODM4MjQ4IDM4LjY0NzU4NjksMzEuNjgzMTY4MyBMNzIuODcxMjg3MSwzMi41NTQ0MjUgTDY1LjI4MDk3Myw2Ny42NzYzNDIxIEw1MS4xMTIyODk5LDc3LjM3NjE0NCBMMzUuMDA3NzE4LDgwIFoiIGlkPSJQYXRoLTIyIiBmaWxsPSIjMDAyODY4Ij48L3BhdGg+CiAgICAgICAgICAgICAgICA8cGF0aCBkPSJNMCwzNy43MzA0NDA1IEwyNy4xMTQ1MzcsMC4yNTcxMTE0MzYgQzYyLjM3MTUxMjMsLTEuOTkwNzE3MDEgODAsMTAuNTAwMzkyNyA4MCwzNy43MzA0NDA1IEM4MCw2NC45NjA0ODgyIDY0Ljc3NjUwMzgsNzkuMDUwMzQxNCAzNC4zMjk1MTEzLDgwIEM0Ny4wNTUzNDg5LDc3LjU2NzA4MDggNTMuNDE4MjY3Nyw3MC4zMTM2MTAzIDUzLjQxODI2NzcsNTguMjM5NTg4NSBDNTMuNDE4MjY3Nyw0MC4xMjg1NTU3IDM2LjMwMzk1NDQsMzcuNzMwNDQwNSAyNS4yMjc0MTcsMzcuNzMwNDQwNSBDMTcuODQzMDU4NiwzNy43MzA0NDA1IDkuNDMzOTE5NjYsMzcuNzMwNDQwNSAwLDM3LjczMDQ0MDUgWiIgaWQ9IlBhdGgtMTkiIGZpbGw9IiMzNzkzRUYiPjwvcGF0aD4KICAgICAgICAgICAgPC9nPgogICAgICAgIDwvZz4KICAgIDwvZz4KPC9zdmc+' > </img>\nCreated in <span style='font-weight:600;margin-left:4px;'>Deepnote</span></a>",
   "metadata": {
    "tags": [],
    "created_in_deepnote_cell": true,
    "deepnote_cell_type": "markdown"
   }
  }
 ],
 "nbformat": 4,
 "nbformat_minor": 2,
 "metadata": {
  "orig_nbformat": 2,
  "deepnote": {
   "is_reactive": false
  },
  "deepnote_notebook_id": "d7cc9620-ea48-4838-a178-53b09e425435",
  "deepnote_execution_queue": []
 }
}