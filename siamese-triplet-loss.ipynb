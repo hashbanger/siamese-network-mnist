{
 "cells": [
  {
   "cell_type": "markdown",
   "metadata": {
    "cell_id": "00000-6a4745cb-a33c-4b8d-8371-320149164403",
    "deepnote_cell_type": "markdown",
    "tags": []
   },
   "source": [
    "Importing the libraries"
   ]
  },
  {
   "cell_type": "code",
   "execution_count": 60,
   "metadata": {
    "cell_id": "00000-1e0c29cb-319e-48de-b93f-450b5d059ae3",
    "deepnote_cell_type": "code",
    "deepnote_to_be_reexecuted": false,
    "execution_millis": 4294,
    "execution_start": 1628496837124,
    "source_hash": "a336fcdb",
    "tags": []
   },
   "outputs": [],
   "source": [
    "# !pip install tensorflow==2.3.0\n",
    "# !pip install keras==2.4.3\n",
    "# !pip install pydot==1.4.2\n",
    "\n",
    "# !pip install -q -U tensorflow-addons==0.13.0\n",
    "# !pip install tensorflow_datasets\n",
    "# !pip install ipywidgets\n",
    "\n",
    "# !pip install jupyter\n",
    "# !jupyter nbextension enable --py widgetsnbextension\n",
    "\n",
    "import os\n",
    "import itertools\n",
    "import numpy as np\n",
    "import pandas as pd\n",
    "import tensorflow as tf\n",
    "import matplotlib.pyplot as plt\n",
    "from tensorflow.keras import Input, Model\n",
    "from tensorflow.keras import layers\n",
    "from tensorflow.keras import metrics\n",
    "from tensorflow.keras import utils"
   ]
  },
  {
   "cell_type": "markdown",
   "metadata": {
    "cell_id": "00002-bc3c85a2-2dda-41cc-a808-7e5f3ec242e4",
    "deepnote_cell_type": "markdown",
    "tags": []
   },
   "source": [
    "Loading the MNIST Dataset"
   ]
  },
  {
   "cell_type": "code",
   "execution_count": 61,
   "metadata": {
    "cell_id": "00001-8d75faba-f614-4cb3-ab22-3807e0ffbd91",
    "deepnote_cell_type": "code",
    "deepnote_to_be_reexecuted": false,
    "execution_millis": 484,
    "execution_start": 1628496841423,
    "source_hash": "aaee380d",
    "tags": []
   },
   "outputs": [
    {
     "name": "stdout",
     "output_type": "stream",
     "text": [
      "Number of original training examples: 60000\n",
      "Number of original test examples: 10000\n"
     ]
    }
   ],
   "source": [
    "(x_train, y_train), (x_test, y_test) = tf.keras.datasets.mnist.load_data()\n",
    "\n",
    "# Rescale the images from [0,255] to the [0.0,1.0] range.\n",
    "x_train, x_test = x_train[..., np.newaxis]/255.0, x_test[..., np.newaxis]/255.0\n",
    "\n",
    "print(\"Number of original training examples:\", len(x_train))\n",
    "print(\"Number of original test examples:\", len(x_test))"
   ]
  },
  {
   "cell_type": "markdown",
   "metadata": {
    "cell_id": "00006-cb7c609c-57a0-48b4-9708-db0ec0d9e436",
    "deepnote_cell_type": "markdown",
    "tags": []
   },
   "source": [
    "Creating the Distance Layer for the Model"
   ]
  },
  {
   "cell_type": "code",
   "execution_count": 62,
   "metadata": {
    "cell_id": "00006-d22c9822-8e63-44fd-ad8c-dbb5b6b3ddaa",
    "deepnote_cell_type": "code",
    "deepnote_to_be_reexecuted": false,
    "execution_millis": 5,
    "execution_start": 1628496841903,
    "source_hash": "8dc88ff1",
    "tags": []
   },
   "outputs": [],
   "source": [
    "class DistanceLayer(tf.keras.layers.Layer):\n",
    "    \"\"\"\n",
    "    This layer is responsible for computing the distance between the anchor\n",
    "    embedding and the positive embedding, and the anchor embedding and the\n",
    "    negative embedding.\n",
    "    \"\"\"\n",
    "\n",
    "    def __init__(self, **kwargs):\n",
    "        super().__init__(**kwargs)\n",
    "\n",
    "    def call(self, anchor, positive, negative):\n",
    "        ap_distance = tf.reduce_sum(tf.square(anchor - positive), -1)\n",
    "        an_distance = tf.reduce_sum(tf.square(anchor - negative), -1)\n",
    "        return (ap_distance, an_distance)"
   ]
  },
  {
   "cell_type": "markdown",
   "metadata": {
    "cell_id": "00008-22413e5f-50c3-49ee-a0c0-acd99880c86d",
    "deepnote_cell_type": "markdown",
    "tags": []
   },
   "source": [
    "Defining the embedding model architecture"
   ]
  },
  {
   "cell_type": "code",
   "execution_count": 63,
   "metadata": {
    "cell_id": "00008-f8fc3c5a-5ac0-491c-b52f-c082d1287e20",
    "deepnote_cell_type": "code",
    "deepnote_to_be_reexecuted": false,
    "execution_millis": 1,
    "execution_start": 1628494925982,
    "source_hash": "4ce0cf2e",
    "tags": []
   },
   "outputs": [],
   "source": [
    "def create_siamese_twin():\n",
    "    \"\"\"\n",
    "    creates and returns an embedding model to be used in the siamese architecture\n",
    "    \"\"\"\n",
    "    # Define the tensors for the two input images\n",
    "    input_twin = Input(IMAGE_SHAPE)\n",
    "    x = layers.Conv2D(512, (2, 2), activation=\"relu\")(input_twin)\n",
    "    x = layers.MaxPooling2D()(x)\n",
    "    x = layers.Conv2D(256, (2, 2), activation=\"relu\")(x)\n",
    "    x = layers.MaxPooling2D()(x)\n",
    "    x = layers.Conv2D(128, (1, 1), activation=\"relu\")(x)\n",
    "    x = layers.MaxPooling2D()(x)\n",
    "    x = layers.Flatten()(x)\n",
    "    outputs = layers.Dense(64, name=\"final_dense\", activation=None)(x)\n",
    "    return Model(input_twin, outputs)"
   ]
  },
  {
   "cell_type": "markdown",
   "metadata": {
    "cell_id": "00010-f3888de8-f320-4b8e-826b-192ebc0a84c3",
    "deepnote_cell_type": "markdown",
    "tags": []
   },
   "source": [
    "Putting the whole network together"
   ]
  },
  {
   "cell_type": "code",
   "execution_count": 64,
   "metadata": {
    "cell_id": "00006-750b75e4-7302-4cbe-a6c7-0836d0f567cd",
    "deepnote_cell_type": "code",
    "deepnote_to_be_reexecuted": false,
    "execution_millis": 2,
    "execution_start": 1628494926998,
    "source_hash": "268944df",
    "tags": []
   },
   "outputs": [],
   "source": [
    "def create_siamese_network():\n",
    "    \"\"\"\n",
    "    creates and returns the final siamese architecture with the embedded model\n",
    "    \"\"\"\n",
    "    middle_input = Input(IMAGE_SHAPE)\n",
    "    left_input = Input(IMAGE_SHAPE)\n",
    "    right_input = Input(IMAGE_SHAPE)\n",
    "    twin = create_siamese_twin()\n",
    "    \n",
    "    distances = DistanceLayer()(twin(middle_input), twin(left_input), twin(right_input))\n",
    "    \n",
    "    model = Model(inputs=[middle_input, left_input, right_input], outputs=distances)\n",
    "    return model"
   ]
  },
  {
   "cell_type": "markdown",
   "metadata": {
    "cell_id": "00012-10173a29-1610-4bdf-97bc-24cc0cb55fa1",
    "deepnote_cell_type": "markdown",
    "tags": []
   },
   "source": [
    "Defining the custom training loops"
   ]
  },
  {
   "cell_type": "code",
   "execution_count": 92,
   "metadata": {
    "cell_id": "00007-f7974923-8c10-406f-bd73-b06939f41c87",
    "deepnote_cell_type": "code",
    "deepnote_to_be_reexecuted": false,
    "execution_millis": 13,
    "execution_start": 1628494928258,
    "source_hash": "d5d9b518",
    "tags": []
   },
   "outputs": [],
   "source": [
    "class SiameseModel(Model):\n",
    "    \"\"\"The Siamese Network model with a custom training and testing loops.\n",
    "\n",
    "    Computes the triplet loss using the three embeddings produced by the\n",
    "    Siamese Network.\n",
    "\n",
    "    The triplet loss is defined as:\n",
    "       L(A, P, N) = max(‖f(A) - f(P)‖² - ‖f(A) - f(N)‖² + margin, 0)\n",
    "    \"\"\"\n",
    "\n",
    "    def __init__(self, siamese_network, margin=0.5):\n",
    "        super(SiameseModel, self).__init__()\n",
    "        self.siamese_network = siamese_network\n",
    "        self.margin = margin\n",
    "        self.loss_tracker = metrics.Mean(name=\"loss\")\n",
    "        # self.accuracy = SiameseNetworkAccuracy\n",
    "\n",
    "    def call(self, inputs):\n",
    "        return self.siamese_network(inputs)\n",
    "\n",
    "    def train_step(self, data):\n",
    "        # GradientTape is a context manager that records every operation that\n",
    "        # you do inside. We are using it here to compute the loss so we can get\n",
    "        # the gradients and apply them using the optimizer specified in\n",
    "        # `compile()`.\n",
    "        with tf.GradientTape() as tape:\n",
    "            loss = self._compute_loss(data)\n",
    "\n",
    "        # Storing the gradients of the loss function with respect to the\n",
    "        # weights/parameters.\n",
    "        gradients = tape.gradient(loss, self.siamese_network.trainable_weights)\n",
    "\n",
    "        # Applying the gradients on the model using the specified optimizer\n",
    "        self.optimizer.apply_gradients(\n",
    "            zip(gradients, self.siamese_network.trainable_weights)\n",
    "        )\n",
    "\n",
    "        # Let's update and return the training loss metric.\n",
    "        self.loss_tracker.update_state(loss)\n",
    "        # self.loss_tracker.update_state(loss)\n",
    "\n",
    "        return {\"loss\": self.loss_tracker.result()}  # add accuracy\n",
    "\n",
    "    def test_step(self, data):\n",
    "        \n",
    "        loss = self._compute_loss(data)\n",
    "\n",
    "        # Let's update and return the loss metric.\n",
    "        self.loss_tracker.update_state(loss)\n",
    "        return {\"loss\": self.loss_tracker.result()}\n",
    "\n",
    "    def _compute_loss(self, data):\n",
    "        # The output of the network is a tuple containing the distances\n",
    "        # between the anchor and the positive example, and the anchor and\n",
    "        # the negative example.\n",
    "        ap_distance, an_distance = self.siamese_network(data)\n",
    "\n",
    "        # Computing the Triplet Loss by subtracting both distances and\n",
    "        # making sure we don't get a negative value.\n",
    "        loss = ap_distance - an_distance\n",
    "        loss = tf.maximum(loss + self.margin, 0.0)\n",
    "        return loss\n",
    "\n",
    "    @property\n",
    "    def metrics(self):\n",
    "        # We need to list our metrics here so the `reset_states()` can be\n",
    "        # called automatically.\n",
    "        return [self.loss_tracker]\n",
    "\n",
    "def accuracy(y_true, y_pred):\n",
    "    \"\"\"\n",
    "    returns the keras binary accuracy\n",
    "    \"\"\"\n",
    "    return metrics.binary_accuracy(y_true, 1 - y_pred)"
   ]
  },
  {
   "cell_type": "code",
   "execution_count": 79,
   "metadata": {
    "cell_id": "00009-4898a4dc-bbec-44d5-a180-7cf22ef3ebf4",
    "deepnote_cell_type": "code",
    "deepnote_to_be_reexecuted": false,
    "execution_millis": 8,
    "execution_start": 1628494928964,
    "source_hash": "e1d0b81c",
    "tags": []
   },
   "outputs": [
    {
     "name": "stdout",
     "output_type": "stream",
     "text": [
      "IMAGE_SHAPE (28, 28, 1)\n"
     ]
    }
   ],
   "source": [
    "# The image shape to be fed in the model\n",
    "IMAGE_SHAPE = x_train.shape[1:]\n",
    "print('IMAGE_SHAPE', IMAGE_SHAPE)"
   ]
  },
  {
   "cell_type": "markdown",
   "metadata": {
    "cell_id": "00016-5057ff90-ff32-4abc-9e21-fa9a185249c6",
    "deepnote_cell_type": "markdown",
    "tags": []
   },
   "source": [
    "Triplet Generation"
   ]
  },
  {
   "cell_type": "code",
   "execution_count": 80,
   "metadata": {
    "cell_id": "00014-b07f5dee-408b-4723-a796-6b2986e38dd1",
    "deepnote_cell_type": "code",
    "deepnote_to_be_reexecuted": false,
    "execution_millis": 2,
    "execution_start": 1628495511476,
    "source_hash": "155b53ca",
    "tags": []
   },
   "outputs": [],
   "source": [
    "def shuffle_triplets(triplets):\n",
    "    \"\"\"\n",
    "    returns the shuffled array of the triplets\n",
    "    \"\"\"\n",
    "    triplets_len = list(range(len(triplets[0])))\n",
    "    np.random.shuffle(triplets_len)\n",
    "    triplets_shuffles = [triplets[0][triplets_len], triplets[1][triplets_len], triplets[2][triplets_len]]\n",
    "    return triplets_shuffles\n",
    "\n",
    "def create_triplets(images_set, label_set, num_pos, num_neg, test = False, validation_split = 0.7):\n",
    "    \"\"\"\n",
    "    creates and splits all possible triplets for training and validation\n",
    "    \"\"\"\n",
    "    left_images = []\n",
    "    middle_images = []\n",
    "    right_images = []\n",
    "    \n",
    "    set_labels = []\n",
    "    \n",
    "    for label in set(label_set):\n",
    "        label_pos_ids = np.where(label_set == label)[0]\n",
    "        label_neg_ids = np.where(label_set != label)[0]\n",
    "        np.random.shuffle(label_pos_ids)\n",
    "        np.random.shuffle(label_neg_ids)\n",
    "        \n",
    "        positive_examples = label_pos_ids[:num_pos]\n",
    "        negative_examples = label_neg_ids[:num_neg]\n",
    "        triplet_labels = list(itertools.product(positive_examples, positive_examples, negative_examples))\n",
    "\n",
    "        for trp in triplet_labels:\n",
    "            left_images.append(images_set[trp[0]])\n",
    "            middle_images.append(images_set[trp[1]])\n",
    "            right_images.append(images_set[trp[2]])\n",
    "            set_labels.append(1.0)\n",
    "    \n",
    "    triplets, labels = [np.array(left_images), np.array(middle_images), np.array(right_images)], np.array(set_labels)\n",
    "    triplets = shuffle_triplets(triplets)\n",
    "    \n",
    "    if test:\n",
    "        return (triplets, labels)\n",
    "\n",
    "    split_point = int(num_pos * num_pos * num_neg * len(set(label_set)) * 0.7)\n",
    "    train_triplets, train_labels = [triplets[0][:split_point], triplets[1][:split_point], triplets[2][:split_point]], labels[:split_point]\n",
    "    val_triplets, val_labels = [triplets[0][split_point:], triplets[1][split_point:], triplets[2][split_point:]], labels[split_point:]\n",
    "    \n",
    "    return (train_triplets, train_labels), (val_triplets, val_labels)  "
   ]
  },
  {
   "cell_type": "code",
   "execution_count": 81,
   "metadata": {
    "cell_id": "00014-e920126e-6222-43c1-83ed-0cdce15166e5",
    "deepnote_cell_type": "code",
    "deepnote_to_be_reexecuted": false,
    "execution_millis": 2,
    "execution_start": 1628495511631,
    "source_hash": "106e9ff9",
    "tags": []
   },
   "outputs": [],
   "source": [
    "TRAIN_NUM_POS = 4 # Number of positive examples to consider per class\n",
    "TRAIN_NUM_NEG = 9 # Number of negative examples to consider per class\n",
    "\n",
    "TEST_NUM_POS = 3 # Number of positive examples to consider per class\n",
    "TEST_NUM_NEG = 6 # Number of negative examples to consider per class"
   ]
  },
  {
   "cell_type": "code",
   "execution_count": 82,
   "metadata": {
    "cell_id": "00014-58fac179-5f5e-4dab-87a0-3fc083dd9abf",
    "deepnote_cell_type": "code",
    "deepnote_to_be_reexecuted": false,
    "execution_millis": 53,
    "execution_start": 1628495512287,
    "source_hash": "a6c77ee0",
    "tags": []
   },
   "outputs": [],
   "source": [
    "# Storing the triplets\n",
    "(train_triplets, train_labels), (val_triplets, val_labels)  = create_triplets(x_train, y_train, TRAIN_NUM_POS, TRAIN_NUM_NEG)\n",
    "(test_triplets, test_labels) = create_triplets(x_test, y_test, TEST_NUM_POS, TEST_NUM_NEG, test= True)"
   ]
  },
  {
   "cell_type": "code",
   "execution_count": 83,
   "metadata": {
    "cell_id": "00017-abafa1c6-41f3-460f-bcf0-0bb04d064e24",
    "deepnote_cell_type": "code",
    "deepnote_to_be_reexecuted": false,
    "execution_millis": 10,
    "execution_start": 1628495512820,
    "source_hash": "11c6a75a",
    "tags": []
   },
   "outputs": [
    {
     "name": "stdout",
     "output_type": "stream",
     "text": [
      "Train Triplets Shape: (3, 1007, 28, 28, 1), Train Labels Shape: (1007,)\n",
      "Val Triplets Shape: (3, 433, 28, 28, 1), Val Labels Shape: (433,)\n",
      "Test Triplets Shape: (3, 540, 28, 28, 1), Test Labels Shape: (540,)\n"
     ]
    }
   ],
   "source": [
    "# Checking the shapes for the triplets\n",
    "print(\"Train Triplets Shape: {}, Train Labels Shape: {}\".format(np.array(train_triplets).shape, train_labels.shape))\n",
    "print(\"Val Triplets Shape: {}, Val Labels Shape: {}\".format(np.array(val_triplets).shape, val_labels.shape))\n",
    "print(\"Test Triplets Shape: {}, Test Labels Shape: {}\".format(np.array(test_triplets).shape, test_labels.shape))"
   ]
  },
  {
   "cell_type": "code",
   "execution_count": 84,
   "metadata": {
    "cell_id": "00016-e5dfd320-045c-4798-b8a8-38b1f7ffab05",
    "deepnote_cell_type": "code",
    "deepnote_to_be_reexecuted": false,
    "execution_millis": 357,
    "execution_start": 1628495517269,
    "source_hash": "9c9a60e5",
    "tags": []
   },
   "outputs": [
    {
     "data": {
      "text/plain": [
       "<matplotlib.image.AxesImage at 0x7fa2319b2110>"
      ]
     },
     "execution_count": 84,
     "metadata": {},
     "output_type": "execute_result"
    },
    {
     "data": {
      "image/png": "[encoded data removed]",
      "text/plain": [
       "<Figure size 1152x1080 with 3 Axes>"
      ]
     },
     "metadata": {
      "needs_background": "light"
     },
     "output_type": "display_data"
    }
   ],
   "source": [
    "# plotting some triplets \n",
    "%matplotlib inline\n",
    "num = np.random.randint(0, len(train_labels))\n",
    "plt.figure(figsize= (16,15))\n",
    "plt.subplot(1,3,1)\n",
    "plt.imshow(train_triplets[0][num])\n",
    "plt.subplot(1,3,2)\n",
    "plt.imshow(train_triplets[1][num])\n",
    "plt.subplot(1,3,3)\n",
    "plt.imshow(train_triplets[2][num])"
   ]
  },
  {
   "cell_type": "markdown",
   "metadata": {
    "cell_id": "00021-08a5a038-c8bb-433c-97ec-2a34f039ec46",
    "deepnote_cell_type": "markdown",
    "deepnote_to_be_reexecuted": false,
    "execution_millis": 0,
    "execution_start": 1628487907367,
    "source_hash": "574518f7",
    "tags": []
   },
   "source": [
    "Creating the model"
   ]
  },
  {
   "cell_type": "code",
   "execution_count": 85,
   "metadata": {
    "cell_id": "00013-bf3b48e5-9a89-4839-bdc7-bd1c35204268",
    "deepnote_cell_type": "code",
    "deepnote_to_be_reexecuted": false,
    "execution_millis": 173,
    "execution_start": 1628495522115,
    "source_hash": "f8f0860f",
    "tags": []
   },
   "outputs": [
    {
     "name": "stdout",
     "output_type": "stream",
     "text": [
      "Model: \"functional_15\"\n",
      "__________________________________________________________________________________________________\n",
      "Layer (type)                    Output Shape         Param #     Connected to                     \n",
      "==================================================================================================\n",
      "input_13 (InputLayer)           [(None, 28, 28, 1)]  0                                            \n",
      "__________________________________________________________________________________________________\n",
      "input_14 (InputLayer)           [(None, 28, 28, 1)]  0                                            \n",
      "__________________________________________________________________________________________________\n",
      "input_15 (InputLayer)           [(None, 28, 28, 1)]  0                                            \n",
      "__________________________________________________________________________________________________\n",
      "functional_13 (Functional)      (None, 64)           633792      input_13[0][0]                   \n",
      "                                                                 input_14[0][0]                   \n",
      "                                                                 input_15[0][0]                   \n",
      "__________________________________________________________________________________________________\n",
      "distance_layer_3 (DistanceLayer ((None,), (None,))   0           functional_13[0][0]              \n",
      "                                                                 functional_13[1][0]              \n",
      "                                                                 functional_13[2][0]              \n",
      "==================================================================================================\n",
      "Total params: 633,792\n",
      "Trainable params: 633,792\n",
      "Non-trainable params: 0\n",
      "__________________________________________________________________________________________________\n"
     ]
    },
    {
     "data": {
      "image/png": "[encoded data removed]",
      "text/plain": [
       "<IPython.core.display.Image object>"
      ]
     },
     "execution_count": 85,
     "metadata": {},
     "output_type": "execute_result"
    }
   ],
   "source": [
    "siamese_network = create_siamese_network()\n",
    "siamese_network.summary()\n",
    "tf.keras.utils.plot_model(siamese_network, show_shapes = True)"
   ]
  },
  {
   "cell_type": "markdown",
   "metadata": {
    "cell_id": "00023-37dd87ba-aae2-496f-8737-4d11011d3bfe",
    "deepnote_cell_type": "markdown",
    "deepnote_to_be_reexecuted": false,
    "execution_millis": 6,
    "execution_start": 1628487919114,
    "source_hash": "bba1baca",
    "tags": []
   },
   "source": [
    "Compiling the Model"
   ]
  },
  {
   "cell_type": "code",
   "execution_count": 90,
   "metadata": {
    "cell_id": "00013-add20e12-1905-42f7-8cb3-5fc58a75f4cf",
    "deepnote_cell_type": "code",
    "deepnote_to_be_reexecuted": false,
    "execution_millis": 17,
    "execution_start": 1628495522519,
    "source_hash": "c090218a",
    "tags": []
   },
   "outputs": [],
   "source": [
    "siamese_model = SiameseModel(siamese_network)\n",
    "siamese_model.compile(optimizer=tf.keras.optimizers.Adam(1e-4), metrics=accuracy)"
   ]
  },
  {
   "cell_type": "markdown",
   "metadata": {
    "cell_id": "00025-f96a8492-2b3a-43d9-a599-7096f1044484",
    "deepnote_cell_type": "markdown",
    "tags": []
   },
   "source": [
    "Training the model"
   ]
  },
  {
   "cell_type": "code",
   "execution_count": 91,
   "metadata": {
    "cell_id": "00019-2387542d-8563-4139-86ba-48f91cee76ea",
    "deepnote_cell_type": "code",
    "deepnote_to_be_reexecuted": false,
    "execution_millis": 8052,
    "execution_start": 1628495523868,
    "source_hash": "1869d3e0",
    "tags": []
   },
   "outputs": [
    {
     "name": "stdout",
     "output_type": "stream",
     "text": [
      "Epoch 1/5\n",
      "32/32 [==============================] - 17s 528ms/step - loss: 6.9149e-05 - val_loss: 8.6102e-04\n",
      "Epoch 2/5\n",
      "32/32 [==============================] - 16s 500ms/step - loss: 3.7628e-04 - val_loss: 1.6824e-04\n",
      "Epoch 3/5\n",
      "32/32 [==============================] - 18s 549ms/step - loss: 2.2823e-05 - val_loss: 6.2524e-04\n",
      "Epoch 4/5\n",
      "32/32 [==============================] - 17s 527ms/step - loss: 0.0000e+00 - val_loss: 7.1156e-04\n",
      "Epoch 5/5\n",
      "32/32 [==============================] - 16s 514ms/step - loss: 0.0000e+00 - val_loss: 7.1493e-04\n"
     ]
    },
    {
     "data": {
      "text/plain": [
       "<tensorflow.python.keras.callbacks.History at 0x7fa231cd2cd0>"
      ]
     },
     "execution_count": 91,
     "metadata": {},
     "output_type": "execute_result"
    }
   ],
   "source": [
    "siamese_model.fit((train_triplets, train_labels), validation_data= ((val_triplets, val_labels)), epochs = 5)"
   ]
  },
  {
   "cell_type": "markdown",
   "metadata": {
    "created_in_deepnote_cell": true,
    "deepnote_cell_type": "markdown",
    "tags": []
   },
   "source": [
    "<a style='text-decoration:none;line-height:16px;display:flex;color:#5B5B62;padding:10px;justify-content:end;' href='https://deepnote.com?utm_source=created-in-deepnote-cell&projectId=f9d7a30a-760e-4df9-995d-bfc22963224f' target=\"_blank\">\n",
    "<img alt='Created in deepnote.com' style='display:inline;max-height:16px;margin:0px;margin-right:7.5px;' src='data:image/svg+xml;base64,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' > </img>\n",
    "Created in <span style='font-weight:600;margin-left:4px;'>Deepnote</span></a>"
   ]
  }
 ],
 "metadata": {
  "deepnote": {
   "is_reactive": false
  },
  "deepnote_execution_queue": [],
  "deepnote_notebook_id": "d7cc9620-ea48-4838-a178-53b09e425435",
  "kernelspec": {
   "display_name": "Python 3.7.11 64-bit ('siamese-mnist': conda)",
   "language": "python",
   "name": "python3711jvsc74a57bd08d705917d987b1048e35c5b7ff6cebae670c638aa657dfe58769b8c45585a4d2"
  },
  "language_info": {
   "codemirror_mode": {
    "name": "ipython",
    "version": 3
   },
   "file_extension": ".py",
   "mimetype": "text/x-python",
   "name": "python",
   "nbconvert_exporter": "python",
   "pygments_lexer": "ipython3",
   "version": "3.7.11"
  }
 },
 "nbformat": 4,
 "nbformat_minor": 4
}
