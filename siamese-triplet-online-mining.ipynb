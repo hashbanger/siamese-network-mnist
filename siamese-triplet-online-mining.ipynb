{
 "cells": [
  {
   "cell_type": "code",
   "execution_count": 9,
   "metadata": {
    "tags": []
   },
   "outputs": [],
   "source": [
    "# !pip install tensorflow==2.3.0\n",
    "# !pip install keras==2.4.3\n",
    "# !pip install pydot==1.4.2\n",
    "\n",
    "# !pip install -q -U tensorflow-addons==0.13.0\n",
    "# !pip install tensorflow_datasets\n",
    "# !pip install ipywidgets\n",
    "\n",
    "# !pip install jupyter\n",
    "# !jupyter nbextension enable --py widgetsnbextension\n",
    "\n",
    "import os\n",
    "#import random\n",
    "#import itertools\n",
    "import numpy as np\n",
    "import pandas as pd\n",
    "import tensorflow as tf\n",
    "import tensorflow_addons as tfa\n",
    "from tensorflow.keras import (Input, Model, layers, metrics, utils)"
   ]
  },
  {
   "cell_type": "code",
   "execution_count": 10,
   "metadata": {},
   "outputs": [
    {
     "name": "stdout",
     "output_type": "stream",
     "text": [
      "Number of original training examples: 60000\n",
      "Number of original test examples: 10000\n"
     ]
    }
   ],
   "source": [
    "(x_train, y_train), (x_test, y_test) = tf.keras.datasets.mnist.load_data()\n",
    "\n",
    "# Rescale the images from [0,255] to the [0.0,1.0] range.\n",
    "x_train, x_test = x_train[..., np.newaxis]/255.0, x_test[..., np.newaxis]/255.0\n",
    "\n",
    "print(\"Number of original training examples:\", len(x_train))\n",
    "print(\"Number of original test examples:\", len(x_test))"
   ]
  },
  {
   "cell_type": "code",
   "execution_count": 11,
   "metadata": {},
   "outputs": [],
   "source": [
    "def get_model(IMAGE_SHAPE):\n",
    "    \"\"\"\n",
    "    creates and returns an embedding model.\n",
    "    \"\"\"\n",
    "    # Define the tensors for the two input images\n",
    "    input_twin = Input(IMAGE_SHAPE)\n",
    "    x = layers.Conv2D(512, (2, 2), activation=\"relu\")(input_twin)\n",
    "    x = layers.MaxPooling2D()(x)\n",
    "    x = layers.Conv2D(256, (2, 2), activation=\"relu\")(x)\n",
    "    x = layers.MaxPooling2D()(x)\n",
    "    x = layers.Conv2D(128, (1, 1), activation=\"relu\")(x)\n",
    "    x = layers.MaxPooling2D()(x)\n",
    "    x = layers.Flatten()(x)\n",
    "    outputs = layers.Dense(64, name=\"final_dense\", activation=None)(x)\n",
    "    return Model(input_twin, outputs)"
   ]
  },
  {
   "cell_type": "code",
   "execution_count": 12,
   "metadata": {},
   "outputs": [],
   "source": [
    "model = get_model((28,28,1))"
   ]
  },
  {
   "cell_type": "code",
   "execution_count": 13,
   "metadata": {},
   "outputs": [
    {
     "name": "stdout",
     "output_type": "stream",
     "text": [
      "Model: \"functional_3\"\n",
      "_________________________________________________________________\n",
      "Layer (type)                 Output Shape              Param #   \n",
      "=================================================================\n",
      "input_2 (InputLayer)         [(None, 28, 28, 1)]       0         \n",
      "_________________________________________________________________\n",
      "conv2d_3 (Conv2D)            (None, 27, 27, 512)       2560      \n",
      "_________________________________________________________________\n",
      "max_pooling2d_3 (MaxPooling2 (None, 13, 13, 512)       0         \n",
      "_________________________________________________________________\n",
      "conv2d_4 (Conv2D)            (None, 12, 12, 256)       524544    \n",
      "_________________________________________________________________\n",
      "max_pooling2d_4 (MaxPooling2 (None, 6, 6, 256)         0         \n",
      "_________________________________________________________________\n",
      "conv2d_5 (Conv2D)            (None, 6, 6, 128)         32896     \n",
      "_________________________________________________________________\n",
      "max_pooling2d_5 (MaxPooling2 (None, 3, 3, 128)         0         \n",
      "_________________________________________________________________\n",
      "flatten_1 (Flatten)          (None, 1152)              0         \n",
      "_________________________________________________________________\n",
      "final_dense (Dense)          (None, 64)                73792     \n",
      "=================================================================\n",
      "Total params: 633,792\n",
      "Trainable params: 633,792\n",
      "Non-trainable params: 0\n",
      "_________________________________________________________________\n"
     ]
    }
   ],
   "source": [
    "model.summary()"
   ]
  },
  {
   "cell_type": "code",
   "execution_count": 14,
   "metadata": {},
   "outputs": [],
   "source": [
    "_learning_rate = 1e-3\n",
    "model.compile(optimizer = tf.keras.optimizers.Adam(_learning_rate), loss = tfa.losses.TripletHardLoss())"
   ]
  },
  {
   "cell_type": "code",
   "execution_count": 15,
   "metadata": {},
   "outputs": [
    {
     "name": "stdout",
     "output_type": "stream",
     "text": [
      "Epoch 1/5\n",
      "1313/1313 [==============================] - 264s 201ms/step - loss: 0.5088 - val_loss: 0.3422\n",
      "Epoch 2/5\n",
      "1313/1313 [==============================] - 296s 226ms/step - loss: 0.3000 - val_loss: 0.2548\n",
      "Epoch 3/5\n",
      "1313/1313 [==============================] - 283s 216ms/step - loss: 0.2495 - val_loss: 0.2368\n",
      "Epoch 4/5\n",
      "1313/1313 [==============================] - 291s 221ms/step - loss: 0.2237 - val_loss: 0.2211\n",
      "Epoch 5/5\n",
      "1313/1313 [==============================] - 304s 232ms/step - loss: 0.2005 - val_loss: 0.2020\n"
     ]
    },
    {
     "data": {
      "text/plain": [
       "<tensorflow.python.keras.callbacks.History at 0x7fc9fc375fd0>"
      ]
     },
     "execution_count": 15,
     "metadata": {},
     "output_type": "execute_result"
    }
   ],
   "source": [
    "model.fit(x_train, y_train, validation_split= 0.3, batch_size = 32, epochs = 5)"
   ]
  },
  {
   "cell_type": "code",
   "execution_count": null,
   "metadata": {},
   "outputs": [],
   "source": []
  }
 ],
 "metadata": {
  "kernelspec": {
   "display_name": "Python 3.7.11 64-bit ('siamese-mnist': conda)",
   "language": "python",
   "name": "python3711jvsc74a57bd08d705917d987b1048e35c5b7ff6cebae670c638aa657dfe58769b8c45585a4d2"
  },
  "language_info": {
   "codemirror_mode": {
    "name": "ipython",
    "version": 3
   },
   "file_extension": ".py",
   "mimetype": "text/x-python",
   "name": "python",
   "nbconvert_exporter": "python",
   "pygments_lexer": "ipython3",
   "version": "3.7.11"
  }
 },
 "nbformat": 4,
 "nbformat_minor": 4
}
