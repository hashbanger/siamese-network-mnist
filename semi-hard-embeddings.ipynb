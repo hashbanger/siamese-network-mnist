{
 "cells": [
  {
   "cell_type": "code",
   "metadata": {
    "tags": [],
    "cell_id": "00000-932a088c-4e65-48fc-be34-edefd1ed6f07",
    "deepnote_to_be_reexecuted": false,
    "source_hash": "de1e2048",
    "execution_start": 1628493095762,
    "execution_millis": 2215,
    "allow_embed": "code_output",
    "deepnote_cell_type": "code"
   },
   "source": "# !pip install tensorflow==2.3.0\n# !pip install keras==2.4.3\n# !pip install pydot==1.4.2\n\n# !pip install -q -U tensorflow-addons==0.13.0\n# !pip install tensorflow_datasets\n# !pip install ipywidgets\n\n# !pip install jupyter\n# !jupyter nbextension enable --py widgetsnbextension\n\nimport io\nimport numpy as np\n\nimport tensorflow as tf\nimport tensorflow_addons as tfa\nimport tensorflow_datasets as tfds",
   "outputs": [
    {
     "name": "stderr",
     "text": "2021-08-09 07:11:35.936963: W tensorflow/stream_executor/platform/default/dso_loader.cc:59] Could not load dynamic library 'libcudart.so.10.1'; dlerror: libcudart.so.10.1: cannot open shared object file: No such file or directory\n2021-08-09 07:11:35.937014: I tensorflow/stream_executor/cuda/cudart_stub.cc:29] Ignore above cudart dlerror if you do not have a GPU set up on your machine.\n",
     "output_type": "stream"
    }
   ],
   "execution_count": null
  },
  {
   "cell_type": "code",
   "source": "def _normalize_img(img, label):\n    img = tf.cast(img, tf.float32) / 255.\n    return (img, label)\n\ntrain_dataset, test_dataset = tfds.load(name=\"mnist\", split=['train', 'test'], as_supervised=True)\n\n# Build your input pipelines\ntrain_dataset = train_dataset.shuffle(1024).batch(32)\ntrain_dataset = train_dataset.map(_normalize_img)\n\ntest_dataset = test_dataset.batch(32)\ntest_dataset = test_dataset.map(_normalize_img)",
   "metadata": {
    "tags": [],
    "cell_id": "00001-07668d48-73b2-4f97-aaa8-0fa70f3a5c38",
    "deepnote_to_be_reexecuted": false,
    "source_hash": "98bfaab6",
    "execution_start": 1628493103669,
    "execution_millis": 299,
    "deepnote_cell_type": "code"
   },
   "outputs": [],
   "execution_count": null
  },
  {
   "cell_type": "code",
   "source": "model = tf.keras.Sequential([\n    tf.keras.layers.Conv2D(filters=64, kernel_size=2, padding='same', activation='relu', input_shape=(28,28,1)),\n    tf.keras.layers.MaxPooling2D(pool_size=2),\n    tf.keras.layers.Dropout(0.3),\n    tf.keras.layers.Conv2D(filters=32, kernel_size=2, padding='same', activation='relu'),\n    tf.keras.layers.MaxPooling2D(pool_size=2),\n    tf.keras.layers.Dropout(0.3),\n    tf.keras.layers.Flatten(),\n    tf.keras.layers.Dense(256, activation=None), # No activation on final dense layer\n    tf.keras.layers.Lambda(lambda x: tf.math.l2_normalize(x, axis=1)) # L2 normalize embeddings\n\n])",
   "metadata": {
    "tags": [],
    "cell_id": "00002-e41183b0-7810-4512-ab1e-eaf9067460c6",
    "deepnote_to_be_reexecuted": false,
    "source_hash": "55ca960",
    "execution_start": 1628493106821,
    "execution_millis": 57,
    "deepnote_cell_type": "code"
   },
   "outputs": [],
   "execution_count": null
  },
  {
   "cell_type": "code",
   "source": "# Compile the model\nmodel.compile(\n    optimizer=tf.keras.optimizers.Adam(0.001),\n    loss=tfa.losses.TripletSemiHardLoss())",
   "metadata": {
    "tags": [],
    "cell_id": "00003-8ffd1646-cccf-4956-ac00-c1e161b0e534",
    "deepnote_to_be_reexecuted": false,
    "source_hash": "32033011",
    "execution_start": 1628493112229,
    "execution_millis": 3,
    "deepnote_cell_type": "code"
   },
   "outputs": [],
   "execution_count": null
  },
  {
   "cell_type": "code",
   "source": "# Train the network\nhistory = model.fit(\n    train_dataset,\n    epochs=5)",
   "metadata": {
    "tags": [],
    "cell_id": "00004-2edb5be5-994f-4514-98ea-8e455b256ee6",
    "deepnote_to_be_reexecuted": false,
    "source_hash": "9715a5f",
    "execution_start": 1628493117535,
    "execution_millis": 384057,
    "deepnote_cell_type": "code"
   },
   "outputs": [
    {
     "name": "stdout",
     "text": "Epoch 1/5\n1875/1875 [==============================] - 80s 43ms/step - loss: 0.5921\nEpoch 2/5\n1875/1875 [==============================] - 75s 40ms/step - loss: 0.4585\nEpoch 3/5\n1875/1875 [==============================] - 76s 40ms/step - loss: 0.4284\nEpoch 4/5\n1875/1875 [==============================] - 76s 41ms/step - loss: 0.4079\nEpoch 5/5\n1875/1875 [==============================] - 75s 40ms/step - loss: 0.3935\n",
     "output_type": "stream"
    }
   ],
   "execution_count": null
  },
  {
   "cell_type": "code",
   "source": "# Evaluate the network\nresults = model.predict(test_dataset)",
   "metadata": {
    "tags": [],
    "cell_id": "00005-6d260d63-70be-47b4-a9fb-3e835029850f",
    "deepnote_to_be_reexecuted": false,
    "source_hash": "276cbdf3",
    "execution_start": 1628493524893,
    "execution_millis": 3853,
    "deepnote_cell_type": "code"
   },
   "outputs": [],
   "execution_count": null
  },
  {
   "cell_type": "code",
   "source": "# Save test embeddings for visualization in projector\nnp.savetxt(\"vecs.tsv\", results, delimiter='\\t')\n\nout_m = io.open('meta.tsv', 'w', encoding='utf-8')\nfor img, labels in tfds.as_numpy(test_dataset):\n    [out_m.write(str(x) + \"\\n\") for x in labels]\nout_m.close()\n\n\ntry:\n  from google.colab import files\n  files.download('vecs.tsv')\n  files.download('meta.tsv')\nexcept:\n  pass",
   "metadata": {
    "tags": [],
    "cell_id": "00006-f4455295-3b14-4c2e-ab82-4dedb080339d",
    "deepnote_to_be_reexecuted": false,
    "source_hash": "2159660a",
    "execution_start": 1628493532788,
    "execution_millis": 2289,
    "deepnote_cell_type": "code"
   },
   "outputs": [],
   "execution_count": null
  },
  {
   "cell_type": "code",
   "source": "model.save('embedding_generator')",
   "metadata": {
    "tags": [],
    "cell_id": "00007-cc17092f-b699-467b-be30-d2ccdb12158e",
    "deepnote_to_be_reexecuted": false,
    "source_hash": "4df5b8d0",
    "execution_start": 1628494627043,
    "execution_millis": 944,
    "deepnote_cell_type": "code"
   },
   "outputs": [
    {
     "name": "stdout",
     "text": "WARNING:tensorflow:From /root/venv/lib/python3.7/site-packages/tensorflow/python/training/tracking/tracking.py:111: Model.state_updates (from tensorflow.python.keras.engine.training) is deprecated and will be removed in a future version.\nInstructions for updating:\nThis property should not be used in TensorFlow 2.0, as updates are applied automatically.\nWARNING:tensorflow:From /root/venv/lib/python3.7/site-packages/tensorflow/python/training/tracking/tracking.py:111: Model.state_updates (from tensorflow.python.keras.engine.training) is deprecated and will be removed in a future version.\nInstructions for updating:\nThis property should not be used in TensorFlow 2.0, as updates are applied automatically.\nWARNING:tensorflow:From /root/venv/lib/python3.7/site-packages/tensorflow/python/training/tracking/tracking.py:111: Layer.updates (from tensorflow.python.keras.engine.base_layer) is deprecated and will be removed in a future version.\nInstructions for updating:\nThis property should not be used in TensorFlow 2.0, as updates are applied automatically.\n2021-08-09 07:37:07.265468: W tensorflow/python/util/util.cc:348] Sets are not currently considered sequences, but this may change in the future, so consider avoiding using them.\nWARNING:tensorflow:From /root/venv/lib/python3.7/site-packages/tensorflow/python/training/tracking/tracking.py:111: Layer.updates (from tensorflow.python.keras.engine.base_layer) is deprecated and will be removed in a future version.\nInstructions for updating:\nThis property should not be used in TensorFlow 2.0, as updates are applied automatically.\nINFO:tensorflow:Assets written to: embedding_generator/assets\nINFO:tensorflow:Assets written to: embedding_generator/assets\n",
     "output_type": "stream"
    }
   ],
   "execution_count": null
  },
  {
   "cell_type": "code",
   "source": "",
   "metadata": {
    "tags": [],
    "cell_id": "00008-74ddd8f9-46a0-4fa7-b41f-153de71973e5",
    "deepnote_cell_type": "code"
   },
   "outputs": [],
   "execution_count": null
  },
  {
   "cell_type": "markdown",
   "source": "<a style='text-decoration:none;line-height:16px;display:flex;color:#5B5B62;padding:10px;justify-content:end;' href='https://deepnote.com?utm_source=created-in-deepnote-cell&projectId=f9d7a30a-760e-4df9-995d-bfc22963224f' target=\"_blank\">\n<img alt='Created in deepnote.com' style='display:inline;max-height:16px;margin:0px;margin-right:7.5px;' src='data:image/svg+xml;base64,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' > </img>\nCreated in <span style='font-weight:600;margin-left:4px;'>Deepnote</span></a>",
   "metadata": {
    "tags": [],
    "created_in_deepnote_cell": true,
    "deepnote_cell_type": "markdown"
   }
  }
 ],
 "nbformat": 4,
 "nbformat_minor": 2,
 "metadata": {
  "orig_nbformat": 2,
  "deepnote": {
   "is_reactive": false
  },
  "deepnote_notebook_id": "01c6de16-ca9a-48c0-be9a-317a92a7d18e",
  "deepnote_execution_queue": []
 }
}